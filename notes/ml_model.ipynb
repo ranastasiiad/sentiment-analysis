{
 "cells": [
  {
   "cell_type": "code",
   "execution_count": 1,
   "metadata": {},
   "outputs": [],
   "source": [
    "# работа с данными\n",
    "import pandas as pd\n",
    "import numpy as np\n",
    "\n",
    "# графики\n",
    "import matplotlib\n",
    "import matplotlib.pyplot as plt \n",
    "%matplotlib inline\n",
    "import seaborn as sns\n",
    "\n",
    "# настройка графиков\n",
    "# matplotlib.rcParams['figure.figsize'] = (8, 8)\n",
    "# sns.set_style('whitegrid')\n",
    "\n",
    "# предупреждения\n",
    "import warnings \n",
    "warnings.filterwarnings(\"ignore\", category=DeprecationWarning)\n",
    "\n",
    "# tqdm\n",
    "from tqdm.notebook import tqdm\n",
    "\n",
    "# работа с файлами\n",
    "import pickle\n",
    "import json"
   ]
  },
  {
   "cell_type": "code",
   "execution_count": 13,
   "metadata": {},
   "outputs": [],
   "source": [
    "unlabeled = pd.read_csv(\"C:/Users/ranas/ML course/Competitions/Second competition/data/unlabeled_data.csv\")\n",
    "train  = pd.read_csv(\"C:/Users/ranas/ML course/Competitions/Second competition/data/train.csv\")\n",
    "test = pd.read_csv(\"C:/Users/ranas/ML course/Competitions/Second competition/data/test.csv\")"
   ]
  },
  {
   "cell_type": "code",
   "execution_count": 14,
   "metadata": {},
   "outputs": [
    {
     "data": {
      "text/plain": [
       "((74998, 2), (12500, 3), (12500, 2))"
      ]
     },
     "execution_count": 14,
     "metadata": {},
     "output_type": "execute_result"
    }
   ],
   "source": [
    "unlabeled.shape, train.shape, test.shape"
   ]
  },
  {
   "cell_type": "code",
   "execution_count": 15,
   "metadata": {},
   "outputs": [
    {
     "data": {
      "text/html": [
       "<div>\n",
       "<style scoped>\n",
       "    .dataframe tbody tr th:only-of-type {\n",
       "        vertical-align: middle;\n",
       "    }\n",
       "\n",
       "    .dataframe tbody tr th {\n",
       "        vertical-align: top;\n",
       "    }\n",
       "\n",
       "    .dataframe thead th {\n",
       "        text-align: right;\n",
       "    }\n",
       "</style>\n",
       "<table border=\"1\" class=\"dataframe\">\n",
       "  <thead>\n",
       "    <tr style=\"text-align: right;\">\n",
       "      <th></th>\n",
       "      <th>id</th>\n",
       "      <th>review</th>\n",
       "    </tr>\n",
       "  </thead>\n",
       "  <tbody>\n",
       "    <tr>\n",
       "      <th>0</th>\n",
       "      <td>1d4e7f9b3d622c1156b1f04b8b29bb4d</td>\n",
       "      <td>Watching Time Chasers, it obvious that it was made by a bunch of friends. Maybe they were sitting around one day in film school and said, \\Hey, let's pool our money together and make a really bad ...</td>\n",
       "    </tr>\n",
       "    <tr>\n",
       "      <th>1</th>\n",
       "      <td>f52c19620f23822f8ec0280af65c7d32</td>\n",
       "      <td>I saw this film about 20 years ago and remember it as being particularly nasty. I believe it is based on a true incident: a young man breaks into a nurses' home and rapes, tortures and kills vario...</td>\n",
       "    </tr>\n",
       "    <tr>\n",
       "      <th>2</th>\n",
       "      <td>83e2fd63fea620ebd7f8682b738ec18b</td>\n",
       "      <td>Minor Spoilers&lt;br /&gt;&lt;br /&gt;In New York, Joan Barnard (Elvire Audrey) is informed that her husband, the archeologist Arthur Barnard (John Saxon), was mysteriously murdered in Italy while searching a...</td>\n",
       "    </tr>\n",
       "    <tr>\n",
       "      <th>3</th>\n",
       "      <td>a695d66856c559b9369d8586db55cec2</td>\n",
       "      <td>I went to see this film with a great deal of excitement as I was at school with the director, he was even a good friend of mine for a while. But sorry mate, this film stinks.&lt;br /&gt;&lt;br /&gt;I can only...</td>\n",
       "    </tr>\n",
       "    <tr>\n",
       "      <th>4</th>\n",
       "      <td>9559ea9753ab7773464505015830f946</td>\n",
       "      <td>Yes, I agree with everyone on this site this movie is VERY VERY bad. To even call this a movie is an insult to all movies ever made. It's 40 minutes long.&lt;br /&gt;&lt;br /&gt;Someone compares this movie to...</td>\n",
       "    </tr>\n",
       "  </tbody>\n",
       "</table>\n",
       "</div>"
      ],
      "text/plain": [
       "                                 id  \\\n",
       "0  1d4e7f9b3d622c1156b1f04b8b29bb4d   \n",
       "1  f52c19620f23822f8ec0280af65c7d32   \n",
       "2  83e2fd63fea620ebd7f8682b738ec18b   \n",
       "3  a695d66856c559b9369d8586db55cec2   \n",
       "4  9559ea9753ab7773464505015830f946   \n",
       "\n",
       "                                                                                                                                                                                                    review  \n",
       "0  Watching Time Chasers, it obvious that it was made by a bunch of friends. Maybe they were sitting around one day in film school and said, \\Hey, let's pool our money together and make a really bad ...  \n",
       "1  I saw this film about 20 years ago and remember it as being particularly nasty. I believe it is based on a true incident: a young man breaks into a nurses' home and rapes, tortures and kills vario...  \n",
       "2  Minor Spoilers<br /><br />In New York, Joan Barnard (Elvire Audrey) is informed that her husband, the archeologist Arthur Barnard (John Saxon), was mysteriously murdered in Italy while searching a...  \n",
       "3  I went to see this film with a great deal of excitement as I was at school with the director, he was even a good friend of mine for a while. But sorry mate, this film stinks.<br /><br />I can only...  \n",
       "4  Yes, I agree with everyone on this site this movie is VERY VERY bad. To even call this a movie is an insult to all movies ever made. It's 40 minutes long.<br /><br />Someone compares this movie to...  "
      ]
     },
     "execution_count": 15,
     "metadata": {},
     "output_type": "execute_result"
    }
   ],
   "source": [
    "pd.set_option(\"display.max_colwidth\", 200)\n",
    "unlabeled.head()"
   ]
  },
  {
   "cell_type": "code",
   "execution_count": 16,
   "metadata": {},
   "outputs": [
    {
     "data": {
      "text/html": [
       "<div>\n",
       "<style scoped>\n",
       "    .dataframe tbody tr th:only-of-type {\n",
       "        vertical-align: middle;\n",
       "    }\n",
       "\n",
       "    .dataframe tbody tr th {\n",
       "        vertical-align: top;\n",
       "    }\n",
       "\n",
       "    .dataframe thead th {\n",
       "        text-align: right;\n",
       "    }\n",
       "</style>\n",
       "<table border=\"1\" class=\"dataframe\">\n",
       "  <thead>\n",
       "    <tr style=\"text-align: right;\">\n",
       "      <th></th>\n",
       "      <th>id</th>\n",
       "      <th>sentiment</th>\n",
       "      <th>review</th>\n",
       "    </tr>\n",
       "  </thead>\n",
       "  <tbody>\n",
       "    <tr>\n",
       "      <th>0</th>\n",
       "      <td>c77111d1e3526ac0f7cf13af46b65e65</td>\n",
       "      <td>1</td>\n",
       "      <td>I thought the film could be a bit more complex,in a psychological sense perhaps, but the action and voice acting were top notch. The animation was heavy CG in many scenes, but very good ones at th...</td>\n",
       "    </tr>\n",
       "    <tr>\n",
       "      <th>1</th>\n",
       "      <td>c4806c50f6560aa65f15ed69a25940f2</td>\n",
       "      <td>0</td>\n",
       "      <td>...except for Jon Heder. This guy tanked the entire movie.&lt;br /&gt;&lt;br /&gt;The plot sounded entertaining. A 29 year old slacker son(Heder)still lives with widowed mom (Keaton)who happens to meet a new ...</td>\n",
       "    </tr>\n",
       "    <tr>\n",
       "      <th>2</th>\n",
       "      <td>82b113c68594c74ab8dbe630206ec28a</td>\n",
       "      <td>1</td>\n",
       "      <td>Jim Carrey is good as usual, and even though there are quite a few \\Jim Carrey moments\\\", it's definitely not a \\\"Jim Carrey movie\\\".&lt;br /&gt;&lt;br /&gt;It's targeted mostly at children, and I managed to ...</td>\n",
       "    </tr>\n",
       "    <tr>\n",
       "      <th>3</th>\n",
       "      <td>3d9891905de05248dfc2550239bd4687</td>\n",
       "      <td>1</td>\n",
       "      <td>Just read the original story which is written by Pu in 18th century. Strikingly, the movie despict the original spirit very well, though the plot was modified tremendously. The film language, the ...</td>\n",
       "    </tr>\n",
       "    <tr>\n",
       "      <th>4</th>\n",
       "      <td>da8d5a23f01e129b534022149825caa2</td>\n",
       "      <td>1</td>\n",
       "      <td>I watched this film over a hundred times. It is really best Serbian movie made ever.I wood like to recommend this movie to everyone. It is very good comedy. I surely like it!!!!</td>\n",
       "    </tr>\n",
       "  </tbody>\n",
       "</table>\n",
       "</div>"
      ],
      "text/plain": [
       "                                 id  sentiment  \\\n",
       "0  c77111d1e3526ac0f7cf13af46b65e65          1   \n",
       "1  c4806c50f6560aa65f15ed69a25940f2          0   \n",
       "2  82b113c68594c74ab8dbe630206ec28a          1   \n",
       "3  3d9891905de05248dfc2550239bd4687          1   \n",
       "4  da8d5a23f01e129b534022149825caa2          1   \n",
       "\n",
       "                                                                                                                                                                                                    review  \n",
       "0  I thought the film could be a bit more complex,in a psychological sense perhaps, but the action and voice acting were top notch. The animation was heavy CG in many scenes, but very good ones at th...  \n",
       "1  ...except for Jon Heder. This guy tanked the entire movie.<br /><br />The plot sounded entertaining. A 29 year old slacker son(Heder)still lives with widowed mom (Keaton)who happens to meet a new ...  \n",
       "2  Jim Carrey is good as usual, and even though there are quite a few \\Jim Carrey moments\\\", it's definitely not a \\\"Jim Carrey movie\\\".<br /><br />It's targeted mostly at children, and I managed to ...  \n",
       "3  Just read the original story which is written by Pu in 18th century. Strikingly, the movie despict the original spirit very well, though the plot was modified tremendously. The film language, the ...  \n",
       "4                        I watched this film over a hundred times. It is really best Serbian movie made ever.I wood like to recommend this movie to everyone. It is very good comedy. I surely like it!!!!  "
      ]
     },
     "execution_count": 16,
     "metadata": {},
     "output_type": "execute_result"
    }
   ],
   "source": [
    "train.head()"
   ]
  },
  {
   "cell_type": "code",
   "execution_count": 17,
   "metadata": {},
   "outputs": [
    {
     "data": {
      "text/html": [
       "<div>\n",
       "<style scoped>\n",
       "    .dataframe tbody tr th:only-of-type {\n",
       "        vertical-align: middle;\n",
       "    }\n",
       "\n",
       "    .dataframe tbody tr th {\n",
       "        vertical-align: top;\n",
       "    }\n",
       "\n",
       "    .dataframe thead th {\n",
       "        text-align: right;\n",
       "    }\n",
       "</style>\n",
       "<table border=\"1\" class=\"dataframe\">\n",
       "  <thead>\n",
       "    <tr style=\"text-align: right;\">\n",
       "      <th></th>\n",
       "      <th>id</th>\n",
       "      <th>review</th>\n",
       "    </tr>\n",
       "  </thead>\n",
       "  <tbody>\n",
       "    <tr>\n",
       "      <th>0</th>\n",
       "      <td>d7593a4a9f7bade74d17667e488a6f3e</td>\n",
       "      <td>I read that \\There's a Girl in My Soup\\\" came out during Peter Sellers's low period. Watching the movie, I'm not surprised. Almost nothing happens in the movie. Seemingly, the very presence of Sel...</td>\n",
       "    </tr>\n",
       "    <tr>\n",
       "      <th>1</th>\n",
       "      <td>2294e3b907d750dcc32c35be503da86a</td>\n",
       "      <td>This film pulls you in from the get-go because it grabs our attention by acknowledging, yeah, that this story is opening with a cliché  a funeral.&lt;br /&gt;&lt;br /&gt;In hands other than Judi's I wouldn't...</td>\n",
       "    </tr>\n",
       "    <tr>\n",
       "      <th>2</th>\n",
       "      <td>43acdaff0a72ab9a365104db9b163f2e</td>\n",
       "      <td>From the awful death scenes to guns that fire without making sounds to a character called the Fiend. It's all tiresome, slow moving, unimaginative drivel. It was OK seeing the guy with the cape an...</td>\n",
       "    </tr>\n",
       "    <tr>\n",
       "      <th>3</th>\n",
       "      <td>0b061ac5f9c62e45fe922ee28819b73b</td>\n",
       "      <td>I saw that movie few days ago. This movie is so great that it makes me feel that if you want something really bad that you have always dreamed about it - you can have it. This shows a big wish com...</td>\n",
       "    </tr>\n",
       "    <tr>\n",
       "      <th>4</th>\n",
       "      <td>a80165e5617c4a46a019c4424637f68e</td>\n",
       "      <td>For a film with so much promise it was disappointing, thinly plotted and the acting ranging between horrendous and unbelievable.The plot had more holes in it than swiss cheese and it's the worst c...</td>\n",
       "    </tr>\n",
       "  </tbody>\n",
       "</table>\n",
       "</div>"
      ],
      "text/plain": [
       "                                 id  \\\n",
       "0  d7593a4a9f7bade74d17667e488a6f3e   \n",
       "1  2294e3b907d750dcc32c35be503da86a   \n",
       "2  43acdaff0a72ab9a365104db9b163f2e   \n",
       "3  0b061ac5f9c62e45fe922ee28819b73b   \n",
       "4  a80165e5617c4a46a019c4424637f68e   \n",
       "\n",
       "                                                                                                                                                                                                    review  \n",
       "0  I read that \\There's a Girl in My Soup\\\" came out during Peter Sellers's low period. Watching the movie, I'm not surprised. Almost nothing happens in the movie. Seemingly, the very presence of Sel...  \n",
       "1  This film pulls you in from the get-go because it grabs our attention by acknowledging, yeah, that this story is opening with a cliché  a funeral.<br /><br />In hands other than Judi's I wouldn't...  \n",
       "2  From the awful death scenes to guns that fire without making sounds to a character called the Fiend. It's all tiresome, slow moving, unimaginative drivel. It was OK seeing the guy with the cape an...  \n",
       "3  I saw that movie few days ago. This movie is so great that it makes me feel that if you want something really bad that you have always dreamed about it - you can have it. This shows a big wish com...  \n",
       "4  For a film with so much promise it was disappointing, thinly plotted and the acting ranging between horrendous and unbelievable.The plot had more holes in it than swiss cheese and it's the worst c...  "
      ]
     },
     "execution_count": 17,
     "metadata": {},
     "output_type": "execute_result"
    }
   ],
   "source": [
    "test.head()"
   ]
  },
  {
   "cell_type": "code",
   "execution_count": 18,
   "metadata": {},
   "outputs": [
    {
     "data": {
      "text/plain": [
       "0    6302\n",
       "1    6198\n",
       "Name: sentiment, dtype: int64"
      ]
     },
     "execution_count": 18,
     "metadata": {},
     "output_type": "execute_result"
    }
   ],
   "source": [
    "train['sentiment'].value_counts()"
   ]
  },
  {
   "cell_type": "markdown",
   "metadata": {},
   "source": [
    "## Для начала почистим очевидные странности в тексте"
   ]
  },
  {
   "cell_type": "code",
   "execution_count": 19,
   "metadata": {},
   "outputs": [],
   "source": [
    "import re\n",
    "\n",
    "import string\n",
    "punct = set(string.punctuation)\n",
    "\n",
    "import nltk\n",
    "from nltk.corpus import stopwords\n",
    "nltk.download(\"stopwords\")\n",
    "stop_words = set(stopwords.words(\"english\"))\n",
    "print(stop_words)"
   ]
  },
  {
   "cell_type": "code",
   "execution_count": 22,
   "metadata": {},
   "outputs": [
    {
     "data": {
      "application/vnd.jupyter.widget-view+json": {
       "model_id": "28206237e48a40d69646e252edfcc539",
       "version_major": 2,
       "version_minor": 0
      },
      "text/plain": [
       "  0%|          | 0/74998 [00:00<?, ?it/s]"
      ]
     },
     "metadata": {},
     "output_type": "display_data"
    }
   ],
   "source": [
    "unlabeled['tidy_review'] =  unlabeled['review']\n",
    "\n",
    "for j in tqdm(range(unlabeled.shape[0])):\n",
    "    # берем один отзыв\n",
    "    text = unlabeled['review'][j]\n",
    "    # пунктуация\n",
    "    text = \"\".join([p for p in text if p not in punct])\n",
    "    # все слова к одному регистру\n",
    "    text = text.lower()\n",
    "    # убираем стоп-слова\n",
    "    text = \" \".join([word for word in text.split() if word not in stop_words])\n",
    "    # особенность текста\n",
    "    text = re.sub(\"<br />\", \"\", text)\n",
    "    unlabeled['tidy_review'][j] = text"
   ]
  },
  {
   "cell_type": "code",
   "execution_count": 24,
   "metadata": {},
   "outputs": [
    {
     "data": {
      "text/html": [
       "<div>\n",
       "<style scoped>\n",
       "    .dataframe tbody tr th:only-of-type {\n",
       "        vertical-align: middle;\n",
       "    }\n",
       "\n",
       "    .dataframe tbody tr th {\n",
       "        vertical-align: top;\n",
       "    }\n",
       "\n",
       "    .dataframe thead th {\n",
       "        text-align: right;\n",
       "    }\n",
       "</style>\n",
       "<table border=\"1\" class=\"dataframe\">\n",
       "  <thead>\n",
       "    <tr style=\"text-align: right;\">\n",
       "      <th></th>\n",
       "      <th>id</th>\n",
       "      <th>review</th>\n",
       "      <th>tidy_review</th>\n",
       "    </tr>\n",
       "  </thead>\n",
       "  <tbody>\n",
       "    <tr>\n",
       "      <th>74993</th>\n",
       "      <td>e5aa509f60de81f7c042adaab28825e2</td>\n",
       "      <td>Sony Pictures Classics, I'm looking at you! Sony's got the rights to Harry records -- you need to distribute the film and you'll get radically increased sales of his back catalog! Anyhow, this is ...</td>\n",
       "      <td>Sony Pictures Classics, I'm looking at you! Sony's got the rights to Harry records -- you need to distribute the film and you'll get radically increased sales of his back catalog! Anyhow, this is ...</td>\n",
       "    </tr>\n",
       "    <tr>\n",
       "      <th>74994</th>\n",
       "      <td>f032350ed01dd90dcb545c24b51932e8</td>\n",
       "      <td>I always felt that Ms. Merkerson had never gotten a role fitting her skills. Familiar to millions as the Lt. on Law and Order, she has been seen in a number of theatrical releases, always in a sup...</td>\n",
       "      <td>I always felt that Ms. Merkerson had never gotten a role fitting her skills. Familiar to millions as the Lt. on Law and Order, she has been seen in a number of theatrical releases, always in a sup...</td>\n",
       "    </tr>\n",
       "    <tr>\n",
       "      <th>74995</th>\n",
       "      <td>3a5737a160e61718da2ef589c86b8364</td>\n",
       "      <td>I was so disappointed in this movie. I am very familiar with the case, having read not only Mark Fuhrman's book but also the far superior \\A Wealth of Evil: The True Story of the Murder of Martha ...</td>\n",
       "      <td>I was so disappointed in this movie. I am very familiar with the case, having read not only Mark Fuhrman's book but also the far superior \\A Wealth of Evil: The True Story of the Murder of Martha ...</td>\n",
       "    </tr>\n",
       "    <tr>\n",
       "      <th>74996</th>\n",
       "      <td>bfa35445aea655cdf4f196a65dfafdd2</td>\n",
       "      <td>From the opening sequence, filled with black and white shots reminiscent of Gordan Parks photos, this film draws the viewer into a feeling of artistic renaissance. The backdrop of a poetry cafe ap...</td>\n",
       "      <td>From the opening sequence, filled with black and white shots reminiscent of Gordan Parks photos, this film draws the viewer into a feeling of artistic renaissance. The backdrop of a poetry cafe ap...</td>\n",
       "    </tr>\n",
       "    <tr>\n",
       "      <th>74997</th>\n",
       "      <td>c419a7c3926a32956d1607e94779e62b</td>\n",
       "      <td>This is a great horror film for people who don't want all that vomit-retching gore and sensationalism. This movie has equal amounts of horror, suspense, humor, and even a little light nudity, but ...</td>\n",
       "      <td>This is a great horror film for people who don't want all that vomit-retching gore and sensationalism. This movie has equal amounts of horror, suspense, humor, and even a little light nudity, but ...</td>\n",
       "    </tr>\n",
       "  </tbody>\n",
       "</table>\n",
       "</div>"
      ],
      "text/plain": [
       "                                     id  \\\n",
       "74993  e5aa509f60de81f7c042adaab28825e2   \n",
       "74994  f032350ed01dd90dcb545c24b51932e8   \n",
       "74995  3a5737a160e61718da2ef589c86b8364   \n",
       "74996  bfa35445aea655cdf4f196a65dfafdd2   \n",
       "74997  c419a7c3926a32956d1607e94779e62b   \n",
       "\n",
       "                                                                                                                                                                                                        review  \\\n",
       "74993  Sony Pictures Classics, I'm looking at you! Sony's got the rights to Harry records -- you need to distribute the film and you'll get radically increased sales of his back catalog! Anyhow, this is ...   \n",
       "74994  I always felt that Ms. Merkerson had never gotten a role fitting her skills. Familiar to millions as the Lt. on Law and Order, she has been seen in a number of theatrical releases, always in a sup...   \n",
       "74995  I was so disappointed in this movie. I am very familiar with the case, having read not only Mark Fuhrman's book but also the far superior \\A Wealth of Evil: The True Story of the Murder of Martha ...   \n",
       "74996  From the opening sequence, filled with black and white shots reminiscent of Gordan Parks photos, this film draws the viewer into a feeling of artistic renaissance. The backdrop of a poetry cafe ap...   \n",
       "74997  This is a great horror film for people who don't want all that vomit-retching gore and sensationalism. This movie has equal amounts of horror, suspense, humor, and even a little light nudity, but ...   \n",
       "\n",
       "                                                                                                                                                                                                   tidy_review  \n",
       "74993  Sony Pictures Classics, I'm looking at you! Sony's got the rights to Harry records -- you need to distribute the film and you'll get radically increased sales of his back catalog! Anyhow, this is ...  \n",
       "74994  I always felt that Ms. Merkerson had never gotten a role fitting her skills. Familiar to millions as the Lt. on Law and Order, she has been seen in a number of theatrical releases, always in a sup...  \n",
       "74995  I was so disappointed in this movie. I am very familiar with the case, having read not only Mark Fuhrman's book but also the far superior \\A Wealth of Evil: The True Story of the Murder of Martha ...  \n",
       "74996  From the opening sequence, filled with black and white shots reminiscent of Gordan Parks photos, this film draws the viewer into a feeling of artistic renaissance. The backdrop of a poetry cafe ap...  \n",
       "74997  This is a great horror film for people who don't want all that vomit-retching gore and sensationalism. This movie has equal amounts of horror, suspense, humor, and even a little light nudity, but ...  "
      ]
     },
     "execution_count": 24,
     "metadata": {},
     "output_type": "execute_result"
    }
   ],
   "source": [
    "unlabeled.tail()"
   ]
  },
  {
   "cell_type": "code",
   "execution_count": 26,
   "metadata": {},
   "outputs": [
    {
     "data": {
      "application/vnd.jupyter.widget-view+json": {
       "model_id": "56dfe8f812f7437580a77e7e9b48651f",
       "version_major": 2,
       "version_minor": 0
      },
      "text/plain": [
       "  0%|          | 0/74998 [00:00<?, ?it/s]"
      ]
     },
     "metadata": {},
     "output_type": "display_data"
    }
   ],
   "source": [
    "\n",
    "\n",
    "for j in tqdm(range(unlabeled.shape[0])):\n",
    "    text = unlabeled['tidy_review'][j]\n",
    "    text = \"\".join([ch for ch in text if ch not in punct])\n",
    "    unlabeled['tidy_review'][j] = text"
   ]
  },
  {
   "cell_type": "code",
   "execution_count": 32,
   "metadata": {},
   "outputs": [
    {
     "data": {
      "text/plain": [
       "'For the most part the acting was poorly done especially on part of the Park Ranger and the stories were anything but scary Predictable and rather poorly shot even if there was a low budget The idea for this movie was a good one it just wasnt pulled off'"
      ]
     },
     "execution_count": 32,
     "metadata": {},
     "output_type": "execute_result"
    }
   ],
   "source": [
    "unlabeled.tidy_review[15]"
   ]
  },
  {
   "cell_type": "code",
   "execution_count": null,
   "metadata": {},
   "outputs": [],
   "source": [
    "import spacy\n",
    "nlp = spacy.load('en_core_web_sm')\n",
    "stopwords = nlp.Defaults.stop_words\n",
    "print(len(stopwords))\n",
    "print(stopwords)"
   ]
  },
  {
   "cell_type": "markdown",
   "metadata": {},
   "source": [
    "## Комментарии на будущее:\n",
    "* Попробовать разные варианты удаления стоп слов (spacy и nltk) или вообще не удалять стоп слова\n",
    "* Лемминг или Стемминг?\n",
    "* Токенизируем\n",
    "* Запускаем Word2Vec\n",
    "* Fast text from genesim??\n",
    "* Моделька классификации"
   ]
  },
  {
   "cell_type": "code",
   "execution_count": null,
   "metadata": {},
   "outputs": [],
   "source": []
  }
 ],
 "metadata": {
  "kernelspec": {
   "display_name": "Python 3 (ipykernel)",
   "language": "python",
   "name": "python3"
  },
  "language_info": {
   "codemirror_mode": {
    "name": "ipython",
    "version": 3
   },
   "file_extension": ".py",
   "mimetype": "text/x-python",
   "name": "python",
   "nbconvert_exporter": "python",
   "pygments_lexer": "ipython3",
   "version": "3.9.13"
  }
 },
 "nbformat": 4,
 "nbformat_minor": 4
}
