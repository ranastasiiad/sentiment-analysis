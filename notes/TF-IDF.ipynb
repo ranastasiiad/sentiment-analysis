{
 "cells": [
  {
   "cell_type": "markdown",
   "id": "20803b2d",
   "metadata": {},
   "source": [
    "## TF-IDF vectorizer"
   ]
  },
  {
   "cell_type": "code",
   "execution_count": null,
   "id": "22c0ecc6",
   "metadata": {},
   "outputs": [],
   "source": [
    "%%time\n",
    "\n",
    "from sklearn.feature_extraction.text import TfidfVectorizer\n",
    "\n",
    "tf_idf = TfidfVectorizer(\n",
    "    min_df=5,\n",
    "    max_df=0.98,\n",
    "    max_features=20000,\n",
    "    ngram_range=(1, 3),\n",
    ")\n",
    "\n",
    "tf_idf.fit(train_df['tidy_review'])\n",
    "X_tr = tf_idf.transform(train_df['tidy_review'])\n",
    "X_val = tf_idf.transform(val_df['tidy_review'])\n",
    "X_te = tf_idf.transform(test['tidy_review'])\n",
    "print(f\"X_tr: {X_tr.shape[0]:,} x {X_tr.shape[1]:,}\")\n",
    "print(f\"X_val: {X_val.shape[0]:,} x {X_val.shape[1]:,}\")\n",
    "print(f\"X_te: {X_te.shape[0]:,} x {X_te.shape[1]:,}\")"
   ]
  },
  {
   "cell_type": "code",
   "execution_count": null,
   "id": "f1d309da",
   "metadata": {},
   "outputs": [],
   "source": [
    "tfidf_df = pd.DataFrame(X_tr.toarray(), columns=tf_idf.get_feature_names_out())"
   ]
  },
  {
   "cell_type": "code",
   "execution_count": null,
   "id": "68ba1592",
   "metadata": {},
   "outputs": [],
   "source": [
    "tfidf_df.loc['Document Frequency'] = (tfidf_df > 0).sum()"
   ]
  },
  {
   "cell_type": "code",
   "execution_count": null,
   "id": "bfc0581a",
   "metadata": {},
   "outputs": [],
   "source": [
    "words_frequence_mapping = dict(zip(tfidf_df.columns, tfidf_df.loc['Document Frequency']))\n",
    "words_frequence_mapping = dict(sorted(words_frequence_mapping.items(), key=lambda item: item[1], reverse=True))\n",
    "words_frequence_mapping"
   ]
  }
 ],
 "metadata": {
  "kernelspec": {
   "display_name": "Python 3 (ipykernel)",
   "language": "python",
   "name": "python3"
  },
  "language_info": {
   "codemirror_mode": {
    "name": "ipython",
    "version": 3
   },
   "file_extension": ".py",
   "mimetype": "text/x-python",
   "name": "python",
   "nbconvert_exporter": "python",
   "pygments_lexer": "ipython3",
   "version": "3.9.13"
  }
 },
 "nbformat": 4,
 "nbformat_minor": 5
}
