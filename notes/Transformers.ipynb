{
 "cells": [
  {
   "cell_type": "code",
   "execution_count": 1,
   "id": "a54e5246",
   "metadata": {},
   "outputs": [],
   "source": [
    "# работа с данными\n",
    "import pandas as pd\n",
    "import numpy as np\n",
    "\n",
    "# графики\n",
    "import matplotlib\n",
    "import matplotlib.pyplot as plt \n",
    "%matplotlib inline\n",
    "import seaborn as sns\n",
    "\n",
    "# настройка графиков\n",
    "# matplotlib.rcParams['figure.figsize'] = (8, 8)\n",
    "# sns.set_style('whitegrid')\n",
    "\n",
    "# предупреждения\n",
    "import warnings \n",
    "warnings.filterwarnings(\"ignore\", category=DeprecationWarning)\n",
    "\n",
    "# tqdm\n",
    "from tqdm.notebook import tqdm\n",
    "# time\n",
    "import itertools\n",
    "# copy\n",
    "from copy import deepcopy\n",
    "\n",
    "# работа с файлами\n",
    "import pickle\n",
    "import json"
   ]
  },
  {
   "cell_type": "code",
   "execution_count": 2,
   "id": "e7ae4c71",
   "metadata": {},
   "outputs": [],
   "source": [
    "#unlabeled = pd.read_csv(\"C:/Users/ranas/ML course/Competitions/Second competition/data/raw/unlabeled_data.csv\")\n",
    "train  = pd.read_csv(\"C:/Users/ranas/ML course/Competitions/Second competition/data/raw/train.csv\")\n",
    "test = pd.read_csv(\"C:/Users/ranas/ML course/Competitions/Second competition/data/raw/test.csv\")"
   ]
  },
  {
   "cell_type": "code",
   "execution_count": 3,
   "id": "d6436d82",
   "metadata": {},
   "outputs": [
    {
     "data": {
      "text/html": [
       "<div>\n",
       "<style scoped>\n",
       "    .dataframe tbody tr th:only-of-type {\n",
       "        vertical-align: middle;\n",
       "    }\n",
       "\n",
       "    .dataframe tbody tr th {\n",
       "        vertical-align: top;\n",
       "    }\n",
       "\n",
       "    .dataframe thead th {\n",
       "        text-align: right;\n",
       "    }\n",
       "</style>\n",
       "<table border=\"1\" class=\"dataframe\">\n",
       "  <thead>\n",
       "    <tr style=\"text-align: right;\">\n",
       "      <th></th>\n",
       "      <th>id</th>\n",
       "      <th>sentiment</th>\n",
       "      <th>review</th>\n",
       "    </tr>\n",
       "  </thead>\n",
       "  <tbody>\n",
       "    <tr>\n",
       "      <th>0</th>\n",
       "      <td>c77111d1e3526ac0f7cf13af46b65e65</td>\n",
       "      <td>1</td>\n",
       "      <td>I thought the film could be a bit more complex...</td>\n",
       "    </tr>\n",
       "    <tr>\n",
       "      <th>1</th>\n",
       "      <td>c4806c50f6560aa65f15ed69a25940f2</td>\n",
       "      <td>0</td>\n",
       "      <td>...except for Jon Heder. This guy tanked the e...</td>\n",
       "    </tr>\n",
       "    <tr>\n",
       "      <th>2</th>\n",
       "      <td>82b113c68594c74ab8dbe630206ec28a</td>\n",
       "      <td>1</td>\n",
       "      <td>Jim Carrey is good as usual, and even though t...</td>\n",
       "    </tr>\n",
       "    <tr>\n",
       "      <th>3</th>\n",
       "      <td>3d9891905de05248dfc2550239bd4687</td>\n",
       "      <td>1</td>\n",
       "      <td>Just read the original story which is written ...</td>\n",
       "    </tr>\n",
       "    <tr>\n",
       "      <th>4</th>\n",
       "      <td>da8d5a23f01e129b534022149825caa2</td>\n",
       "      <td>1</td>\n",
       "      <td>I watched this film over a hundred times. It i...</td>\n",
       "    </tr>\n",
       "  </tbody>\n",
       "</table>\n",
       "</div>"
      ],
      "text/plain": [
       "                                 id  sentiment  \\\n",
       "0  c77111d1e3526ac0f7cf13af46b65e65          1   \n",
       "1  c4806c50f6560aa65f15ed69a25940f2          0   \n",
       "2  82b113c68594c74ab8dbe630206ec28a          1   \n",
       "3  3d9891905de05248dfc2550239bd4687          1   \n",
       "4  da8d5a23f01e129b534022149825caa2          1   \n",
       "\n",
       "                                              review  \n",
       "0  I thought the film could be a bit more complex...  \n",
       "1  ...except for Jon Heder. This guy tanked the e...  \n",
       "2  Jim Carrey is good as usual, and even though t...  \n",
       "3  Just read the original story which is written ...  \n",
       "4  I watched this film over a hundred times. It i...  "
      ]
     },
     "execution_count": 3,
     "metadata": {},
     "output_type": "execute_result"
    }
   ],
   "source": [
    "train.head()"
   ]
  },
  {
   "cell_type": "code",
   "execution_count": 4,
   "id": "cd33578c",
   "metadata": {},
   "outputs": [
    {
     "data": {
      "text/plain": [
       "\"I thought the film could be a bit more complex,in a psychological sense perhaps, but the action and voice acting were top notch. The animation was heavy CG in many scenes, but very good ones at that. This is one of the Batman Returns/Forever type films, which include romances and the conflicts of Wayne and motives for dating. 007 fans would love this, and so would the females, great theme song! Wayne was portrayed very well in this film, and the Penquin was back to his true form, no mutant genes in him this time! I liked the fact Robin wasn't used too much, Tim Drake was just a good computer nerd, somewhat of an Indigo child or mind of the future.<br /><br />The supporting cast was made up of some soap opera stars, decent talents and the characters were drawn to look like the voice actors too. Kelly Ripa was hilarious in this film.<br /><br />I rate this below Phantasm, Return of the Joker, and Batman vs. Dracula, but liked the smarter script better than I enjoyed Subzero. 7/10\""
      ]
     },
     "execution_count": 4,
     "metadata": {},
     "output_type": "execute_result"
    }
   ],
   "source": [
    "train['review'][0]"
   ]
  },
  {
   "cell_type": "markdown",
   "id": "36d761ba",
   "metadata": {},
   "source": [
    "### Vader"
   ]
  },
  {
   "cell_type": "markdown",
   "id": "8251badf",
   "metadata": {},
   "source": [
    "Valence Aware Dictionary for sEntiment Reasoning\n",
    "\n",
    "his lexical dictionary does not only contain words, but also phrases (such as “bad ass” and “the bomb”), emoticons (such as “:-)”) and sentiment-laden acronyms (such as “ROFL” and “WTF”). All the lexical features were rated for the polarity and intensity on a scale from “-4: Extremely Negative” to “+4 Extremely Positive” by 10 independent human raters. The average score is then used as the sentiment indicator for each lexical feature in the dictionary. For example, in Vader, the word “okay” has a positive rating of 0.9, “good” is 1.9 and “great” is 3.1, whereas “horrible” is -2.5, the frowning emoticon “:(“ is -2.2, and “sucks” is -1.5. Vader’s lexicon dictionary contains around 7,500 sentiment features in total and any word not listed in the dictionary will be scored as “0: Neutral”."
   ]
  },
  {
   "cell_type": "code",
   "execution_count": 7,
   "id": "9c7d6e5c",
   "metadata": {},
   "outputs": [
    {
     "name": "stderr",
     "output_type": "stream",
     "text": [
      "[nltk_data] Downloading package vader_lexicon to\n",
      "[nltk_data]     C:\\Users\\ranas\\AppData\\Roaming\\nltk_data...\n",
      "[nltk_data]   Package vader_lexicon is already up-to-date!\n"
     ]
    }
   ],
   "source": [
    "import nltk\n",
    "nltk.download('vader_lexicon')\n",
    "from nltk.sentiment import SentimentIntensityAnalyzer\n",
    "sia = SentimentIntensityAnalyzer()"
   ]
  },
  {
   "cell_type": "code",
   "execution_count": 8,
   "id": "5ccfae89",
   "metadata": {},
   "outputs": [
    {
     "data": {
      "text/plain": [
       "{'neg': 0.0, 'neu': 0.318, 'pos': 0.682, 'compound': 0.6468}"
      ]
     },
     "execution_count": 8,
     "metadata": {},
     "output_type": "execute_result"
    }
   ],
   "source": [
    "sia.polarity_scores('I am so happy!')"
   ]
  },
  {
   "cell_type": "code",
   "execution_count": 11,
   "id": "f8c6da8c",
   "metadata": {},
   "outputs": [
    {
     "data": {
      "text/plain": [
       "{'neg': 0.039, 'neu': 0.663, 'pos': 0.298, 'compound': 0.9963}"
      ]
     },
     "execution_count": 11,
     "metadata": {},
     "output_type": "execute_result"
    }
   ],
   "source": [
    "sia.polarity_scores(train['review'][0])"
   ]
  },
  {
   "cell_type": "code",
   "execution_count": 13,
   "id": "3b9296f4",
   "metadata": {},
   "outputs": [
    {
     "data": {
      "text/plain": [
       "{'neg': 0.188, 'neu': 0.689, 'pos': 0.123, 'compound': -0.8989}"
      ]
     },
     "execution_count": 13,
     "metadata": {},
     "output_type": "execute_result"
    }
   ],
   "source": [
    "sia.polarity_scores(train['review'][1])"
   ]
  },
  {
   "cell_type": "code",
   "execution_count": 14,
   "id": "9f8b028f",
   "metadata": {},
   "outputs": [
    {
     "data": {
      "text/plain": [
       "{'neg': 0.04, 'neu': 0.799, 'pos': 0.161, 'compound': 0.7904}"
      ]
     },
     "execution_count": 14,
     "metadata": {},
     "output_type": "execute_result"
    }
   ],
   "source": [
    "sia.polarity_scores(train['review'][2])"
   ]
  },
  {
   "cell_type": "code",
   "execution_count": 15,
   "id": "e563595a",
   "metadata": {},
   "outputs": [
    {
     "data": {
      "text/plain": [
       "{'neg': 0.021, 'neu': 0.728, 'pos': 0.251, 'compound': 0.9437}"
      ]
     },
     "execution_count": 15,
     "metadata": {},
     "output_type": "execute_result"
    }
   ],
   "source": [
    "sia.polarity_scores(train['review'][3])"
   ]
  },
  {
   "cell_type": "code",
   "execution_count": 16,
   "id": "f73f1a7f",
   "metadata": {},
   "outputs": [
    {
     "data": {
      "text/plain": [
       "{'neg': 0.0, 'neu': 0.508, 'pos': 0.492, 'compound': 0.9694}"
      ]
     },
     "execution_count": 16,
     "metadata": {},
     "output_type": "execute_result"
    }
   ],
   "source": [
    "sia.polarity_scores(train['review'][4])"
   ]
  },
  {
   "cell_type": "markdown",
   "id": "0fc7e596",
   "metadata": {},
   "source": [
    "А оно неплохо справляется!"
   ]
  },
  {
   "cell_type": "code",
   "execution_count": 17,
   "id": "be5c7f6b",
   "metadata": {},
   "outputs": [
    {
     "data": {
      "application/vnd.jupyter.widget-view+json": {
       "model_id": "f90ec1da87694b87b513ba5c9f6e03c0",
       "version_major": 2,
       "version_minor": 0
      },
      "text/plain": [
       "  0%|          | 0/12500 [00:00<?, ?it/s]"
      ]
     },
     "metadata": {},
     "output_type": "display_data"
    }
   ],
   "source": [
    "res = {}\n",
    "for i, row in tqdm(train.iterrows(), total=len(train)):\n",
    "    text = row['review']\n",
    "    myid = row['id']\n",
    "    res[myid] = sia.polarity_scores(text)"
   ]
  },
  {
   "cell_type": "code",
   "execution_count": 19,
   "id": "f6e390c8",
   "metadata": {},
   "outputs": [],
   "source": [
    "vaders = pd.DataFrame(res).T\n",
    "vaders = vaders.reset_index().rename(columns={'index': 'id'})\n",
    "vaders = vaders.merge(train, how='left')"
   ]
  },
  {
   "cell_type": "code",
   "execution_count": 20,
   "id": "39f2e5c8",
   "metadata": {},
   "outputs": [
    {
     "data": {
      "text/html": [
       "<div>\n",
       "<style scoped>\n",
       "    .dataframe tbody tr th:only-of-type {\n",
       "        vertical-align: middle;\n",
       "    }\n",
       "\n",
       "    .dataframe tbody tr th {\n",
       "        vertical-align: top;\n",
       "    }\n",
       "\n",
       "    .dataframe thead th {\n",
       "        text-align: right;\n",
       "    }\n",
       "</style>\n",
       "<table border=\"1\" class=\"dataframe\">\n",
       "  <thead>\n",
       "    <tr style=\"text-align: right;\">\n",
       "      <th></th>\n",
       "      <th>id</th>\n",
       "      <th>neg</th>\n",
       "      <th>neu</th>\n",
       "      <th>pos</th>\n",
       "      <th>compound</th>\n",
       "      <th>sentiment</th>\n",
       "      <th>review</th>\n",
       "    </tr>\n",
       "  </thead>\n",
       "  <tbody>\n",
       "    <tr>\n",
       "      <th>0</th>\n",
       "      <td>c77111d1e3526ac0f7cf13af46b65e65</td>\n",
       "      <td>0.039</td>\n",
       "      <td>0.663</td>\n",
       "      <td>0.298</td>\n",
       "      <td>0.9963</td>\n",
       "      <td>1</td>\n",
       "      <td>I thought the film could be a bit more complex...</td>\n",
       "    </tr>\n",
       "    <tr>\n",
       "      <th>1</th>\n",
       "      <td>c4806c50f6560aa65f15ed69a25940f2</td>\n",
       "      <td>0.188</td>\n",
       "      <td>0.689</td>\n",
       "      <td>0.123</td>\n",
       "      <td>-0.8989</td>\n",
       "      <td>0</td>\n",
       "      <td>...except for Jon Heder. This guy tanked the e...</td>\n",
       "    </tr>\n",
       "    <tr>\n",
       "      <th>2</th>\n",
       "      <td>82b113c68594c74ab8dbe630206ec28a</td>\n",
       "      <td>0.040</td>\n",
       "      <td>0.799</td>\n",
       "      <td>0.161</td>\n",
       "      <td>0.7904</td>\n",
       "      <td>1</td>\n",
       "      <td>Jim Carrey is good as usual, and even though t...</td>\n",
       "    </tr>\n",
       "    <tr>\n",
       "      <th>3</th>\n",
       "      <td>3d9891905de05248dfc2550239bd4687</td>\n",
       "      <td>0.021</td>\n",
       "      <td>0.728</td>\n",
       "      <td>0.251</td>\n",
       "      <td>0.9437</td>\n",
       "      <td>1</td>\n",
       "      <td>Just read the original story which is written ...</td>\n",
       "    </tr>\n",
       "    <tr>\n",
       "      <th>4</th>\n",
       "      <td>da8d5a23f01e129b534022149825caa2</td>\n",
       "      <td>0.000</td>\n",
       "      <td>0.508</td>\n",
       "      <td>0.492</td>\n",
       "      <td>0.9694</td>\n",
       "      <td>1</td>\n",
       "      <td>I watched this film over a hundred times. It i...</td>\n",
       "    </tr>\n",
       "  </tbody>\n",
       "</table>\n",
       "</div>"
      ],
      "text/plain": [
       "                                 id    neg    neu    pos  compound  sentiment  \\\n",
       "0  c77111d1e3526ac0f7cf13af46b65e65  0.039  0.663  0.298    0.9963          1   \n",
       "1  c4806c50f6560aa65f15ed69a25940f2  0.188  0.689  0.123   -0.8989          0   \n",
       "2  82b113c68594c74ab8dbe630206ec28a  0.040  0.799  0.161    0.7904          1   \n",
       "3  3d9891905de05248dfc2550239bd4687  0.021  0.728  0.251    0.9437          1   \n",
       "4  da8d5a23f01e129b534022149825caa2  0.000  0.508  0.492    0.9694          1   \n",
       "\n",
       "                                              review  \n",
       "0  I thought the film could be a bit more complex...  \n",
       "1  ...except for Jon Heder. This guy tanked the e...  \n",
       "2  Jim Carrey is good as usual, and even though t...  \n",
       "3  Just read the original story which is written ...  \n",
       "4  I watched this film over a hundred times. It i...  "
      ]
     },
     "execution_count": 20,
     "metadata": {},
     "output_type": "execute_result"
    }
   ],
   "source": [
    "vaders.head()"
   ]
  },
  {
   "cell_type": "code",
   "execution_count": 21,
   "id": "0832cf78",
   "metadata": {},
   "outputs": [],
   "source": [
    "vaders['predict'] = np.where(vaders['compound']>0,1,0)"
   ]
  },
  {
   "cell_type": "code",
   "execution_count": 25,
   "id": "55233340",
   "metadata": {},
   "outputs": [
    {
     "name": "stdout",
     "output_type": "stream",
     "text": [
      "Accuracy score: 0.6956\n"
     ]
    }
   ],
   "source": [
    "from sklearn.metrics import accuracy_score\n",
    "\n",
    "train_metric = accuracy_score(\n",
    "    y_true=vaders['sentiment'],\n",
    "    y_pred=vaders['predict']\n",
    ")\n",
    "\n",
    "print(f\"Accuracy score: {round(train_metric, 4)}\")"
   ]
  },
  {
   "cell_type": "markdown",
   "id": "83afbd5e",
   "metadata": {},
   "source": [
    "### Roberta pretrained model"
   ]
  },
  {
   "cell_type": "code",
   "execution_count": 5,
   "id": "be3ad029",
   "metadata": {},
   "outputs": [],
   "source": [
    "from transformers import AutoTokenizer\n",
    "from transformers import AutoModelForSequenceClassification\n",
    "from scipy.special import softmax"
   ]
  },
  {
   "cell_type": "code",
   "execution_count": 6,
   "id": "cc0dd63d",
   "metadata": {},
   "outputs": [],
   "source": [
    "MODEL = f\"cardiffnlp/twitter-roberta-base-sentiment\"\n",
    "tokenizer = AutoTokenizer.from_pretrained(MODEL)\n",
    "model = AutoModelForSequenceClassification.from_pretrained(MODEL)"
   ]
  },
  {
   "cell_type": "code",
   "execution_count": 7,
   "id": "007ba94b",
   "metadata": {},
   "outputs": [
    {
     "name": "stdout",
     "output_type": "stream",
     "text": [
      "{'roberta_neg': 0.0050721676, 'roberta_neu': 0.047950763, 'roberta_pos': 0.9469772}\n"
     ]
    }
   ],
   "source": [
    "encoded_text = tokenizer(train['review'][0], return_tensors='pt')\n",
    "output = model(**encoded_text)\n",
    "scores = output[0][0].detach().numpy()\n",
    "scores = softmax(scores)\n",
    "scores_dict = {\n",
    "    'roberta_neg' : scores[0],\n",
    "    'roberta_neu' : scores[1],\n",
    "    'roberta_pos' : scores[2]\n",
    "}\n",
    "print(scores_dict)"
   ]
  },
  {
   "cell_type": "code",
   "execution_count": 22,
   "id": "7534f9d4",
   "metadata": {},
   "outputs": [],
   "source": [
    "import sys\n",
    "sys.path.insert(1, 'C:/Users/ranas/ML course/Competitions/Second competition/functions')"
   ]
  },
  {
   "cell_type": "code",
   "execution_count": 50,
   "id": "a821746d",
   "metadata": {},
   "outputs": [
    {
     "name": "stderr",
     "output_type": "stream",
     "text": [
      "[nltk_data] Downloading package stopwords to\n",
      "[nltk_data]     C:\\Users\\ranas\\AppData\\Roaming\\nltk_data...\n",
      "[nltk_data]   Package stopwords is already up-to-date!\n"
     ]
    }
   ],
   "source": [
    "import importlib\n",
    "importlib.reload(sys.modules['data_preprocess'])\n",
    "from data_preprocess import light_text_cleaning"
   ]
  },
  {
   "cell_type": "code",
   "execution_count": 51,
   "id": "202fa379",
   "metadata": {},
   "outputs": [
    {
     "data": {
      "application/vnd.jupyter.widget-view+json": {
       "model_id": "c7f6be6bcf424021864f8b51675815f4",
       "version_major": 2,
       "version_minor": 0
      },
      "text/plain": [
       "  0%|          | 0/12500 [00:00<?, ?it/s]"
      ]
     },
     "metadata": {},
     "output_type": "display_data"
    },
    {
     "name": "stderr",
     "output_type": "stream",
     "text": [
      "C:\\Users/ranas/ML course/Competitions/Second competition/functions\\data_preprocess.py:66: SettingWithCopyWarning: \n",
      "A value is trying to be set on a copy of a slice from a DataFrame\n",
      "\n",
      "See the caveats in the documentation: https://pandas.pydata.org/pandas-docs/stable/user_guide/indexing.html#returning-a-view-versus-a-copy\n",
      "  \n",
      "C:\\Users\\ranas\\anaconda3\\lib\\site-packages\\bs4\\__init__.py:435: MarkupResemblesLocatorWarning: The input looks more like a filename than markup. You may want to open this file and pass the filehandle into Beautiful Soup.\n",
      "  warnings.warn(\n"
     ]
    },
    {
     "data": {
      "application/vnd.jupyter.widget-view+json": {
       "model_id": "4b3f0099b7f3451c9919ea6e145835c5",
       "version_major": 2,
       "version_minor": 0
      },
      "text/plain": [
       "  0%|          | 0/12500 [00:00<?, ?it/s]"
      ]
     },
     "metadata": {},
     "output_type": "display_data"
    },
    {
     "name": "stderr",
     "output_type": "stream",
     "text": [
      "C:\\Users\\ranas\\anaconda3\\lib\\site-packages\\bs4\\__init__.py:435: MarkupResemblesLocatorWarning: The input looks more like a filename than markup. You may want to open this file and pass the filehandle into Beautiful Soup.\n",
      "  warnings.warn(\n"
     ]
    }
   ],
   "source": [
    "train = light_text_cleaning(train, 'review')\n",
    "test = light_text_cleaning(test, 'review')"
   ]
  },
  {
   "cell_type": "code",
   "execution_count": 53,
   "id": "fb2d4592",
   "metadata": {},
   "outputs": [
    {
     "data": {
      "text/html": [
       "<div>\n",
       "<style scoped>\n",
       "    .dataframe tbody tr th:only-of-type {\n",
       "        vertical-align: middle;\n",
       "    }\n",
       "\n",
       "    .dataframe tbody tr th {\n",
       "        vertical-align: top;\n",
       "    }\n",
       "\n",
       "    .dataframe thead th {\n",
       "        text-align: right;\n",
       "    }\n",
       "</style>\n",
       "<table border=\"1\" class=\"dataframe\">\n",
       "  <thead>\n",
       "    <tr style=\"text-align: right;\">\n",
       "      <th></th>\n",
       "      <th>id</th>\n",
       "      <th>sentiment</th>\n",
       "      <th>review</th>\n",
       "      <th>tidy_review</th>\n",
       "      <th>review_length</th>\n",
       "    </tr>\n",
       "  </thead>\n",
       "  <tbody>\n",
       "    <tr>\n",
       "      <th>0</th>\n",
       "      <td>c77111d1e3526ac0f7cf13af46b65e65</td>\n",
       "      <td>1</td>\n",
       "      <td>I thought the film could be a bit more complex...</td>\n",
       "      <td>I thought the film could be a bit more complex...</td>\n",
       "      <td>992</td>\n",
       "    </tr>\n",
       "    <tr>\n",
       "      <th>1</th>\n",
       "      <td>c4806c50f6560aa65f15ed69a25940f2</td>\n",
       "      <td>0</td>\n",
       "      <td>...except for Jon Heder. This guy tanked the e...</td>\n",
       "      <td>except for Jon Heder This guy tanked the entir...</td>\n",
       "      <td>842</td>\n",
       "    </tr>\n",
       "    <tr>\n",
       "      <th>2</th>\n",
       "      <td>82b113c68594c74ab8dbe630206ec28a</td>\n",
       "      <td>1</td>\n",
       "      <td>Jim Carrey is good as usual, and even though t...</td>\n",
       "      <td>Jim Carrey is good as usual and even though th...</td>\n",
       "      <td>494</td>\n",
       "    </tr>\n",
       "    <tr>\n",
       "      <th>3</th>\n",
       "      <td>3d9891905de05248dfc2550239bd4687</td>\n",
       "      <td>1</td>\n",
       "      <td>Just read the original story which is written ...</td>\n",
       "      <td>Just read the original story which is written ...</td>\n",
       "      <td>370</td>\n",
       "    </tr>\n",
       "    <tr>\n",
       "      <th>4</th>\n",
       "      <td>da8d5a23f01e129b534022149825caa2</td>\n",
       "      <td>1</td>\n",
       "      <td>I watched this film over a hundred times. It i...</td>\n",
       "      <td>I watched this film over a hundred times It is...</td>\n",
       "      <td>177</td>\n",
       "    </tr>\n",
       "  </tbody>\n",
       "</table>\n",
       "</div>"
      ],
      "text/plain": [
       "                                 id  sentiment  \\\n",
       "0  c77111d1e3526ac0f7cf13af46b65e65          1   \n",
       "1  c4806c50f6560aa65f15ed69a25940f2          0   \n",
       "2  82b113c68594c74ab8dbe630206ec28a          1   \n",
       "3  3d9891905de05248dfc2550239bd4687          1   \n",
       "4  da8d5a23f01e129b534022149825caa2          1   \n",
       "\n",
       "                                              review  \\\n",
       "0  I thought the film could be a bit more complex...   \n",
       "1  ...except for Jon Heder. This guy tanked the e...   \n",
       "2  Jim Carrey is good as usual, and even though t...   \n",
       "3  Just read the original story which is written ...   \n",
       "4  I watched this film over a hundred times. It i...   \n",
       "\n",
       "                                         tidy_review  review_length  \n",
       "0  I thought the film could be a bit more complex...            992  \n",
       "1  except for Jon Heder This guy tanked the entir...            842  \n",
       "2  Jim Carrey is good as usual and even though th...            494  \n",
       "3  Just read the original story which is written ...            370  \n",
       "4  I watched this film over a hundred times It is...            177  "
      ]
     },
     "execution_count": 53,
     "metadata": {},
     "output_type": "execute_result"
    }
   ],
   "source": [
    "train.head()"
   ]
  },
  {
   "cell_type": "code",
   "execution_count": 58,
   "id": "29ed5f43",
   "metadata": {},
   "outputs": [
    {
     "data": {
      "text/plain": [
       "count    12500.000000\n",
       "mean      1249.223440\n",
       "std        947.274424\n",
       "min         51.000000\n",
       "25%        668.000000\n",
       "50%        922.000000\n",
       "75%       1515.250000\n",
       "max       9057.000000\n",
       "Name: tidy_review_length, dtype: float64"
      ]
     },
     "execution_count": 58,
     "metadata": {},
     "output_type": "execute_result"
    }
   ],
   "source": [
    "train['tidy_review_length'] = train['tidy_review'].apply(lambda x: len(x))\n",
    "train['tidy_review_length'].describe()"
   ]
  },
  {
   "cell_type": "code",
   "execution_count": 59,
   "id": "3af3b4d0",
   "metadata": {},
   "outputs": [],
   "source": [
    "def polarity_scores_roberta(example):\n",
    "    encoded_text = tokenizer(example, max_length = 511, return_tensors='pt')\n",
    "    output = model(**encoded_text)\n",
    "    scores = output[0][0].detach().numpy()\n",
    "    scores = softmax(scores)\n",
    "    scores_dict = {\n",
    "        'roberta_neg' : scores[0],\n",
    "        'roberta_neu' : scores[1],\n",
    "        'roberta_pos' : scores[2]\n",
    "    }\n",
    "    return scores_dict"
   ]
  },
  {
   "cell_type": "code",
   "execution_count": 62,
   "id": "d4232db4",
   "metadata": {},
   "outputs": [],
   "source": [
    "random_idxs = np.random.permutation(np.arange(len(train)))[:1000]"
   ]
  },
  {
   "cell_type": "code",
   "execution_count": 63,
   "id": "27e8aa02",
   "metadata": {},
   "outputs": [
    {
     "data": {
      "application/vnd.jupyter.widget-view+json": {
       "model_id": "e6658a5e6f1947f09704ff287f0cb632",
       "version_major": 2,
       "version_minor": 0
      },
      "text/plain": [
       "  0%|          | 0/12500 [00:00<?, ?it/s]"
      ]
     },
     "metadata": {},
     "output_type": "display_data"
    },
    {
     "name": "stderr",
     "output_type": "stream",
     "text": [
      "Truncation was not explicitly activated but `max_length` is provided a specific value, please use `truncation=True` to explicitly truncate examples to max length. Defaulting to 'longest_first' truncation strategy. If you encode pairs of sequences (GLUE-style) with the tokenizer you can select this strategy more precisely by providing a specific strategy to `truncation`.\n"
     ]
    }
   ],
   "source": [
    "res = {}\n",
    "for i, row in tqdm(train.iloc[random_idxs,:].iterrows(), total=1000):\n",
    "    try:\n",
    "        text = row['review']\n",
    "        myid = row['id']\n",
    "        roberta_result = polarity_scores_roberta(text)\n",
    "        res[myid] = roberta_result\n",
    "    except RuntimeError:\n",
    "        print(f'Broke for id {myid}')\n",
    "        res[myid] = {\n",
    "        'roberta_neg' : 0.5,\n",
    "        'roberta_neu' : 0.5,\n",
    "        'roberta_pos' : 0.5\n",
    "        }\n",
    "        "
   ]
  },
  {
   "cell_type": "code",
   "execution_count": 64,
   "id": "7ece5ee3",
   "metadata": {},
   "outputs": [],
   "source": [
    "results_df = pd.DataFrame(res).T\n",
    "results_df = results_df.reset_index().rename(columns={'index': 'id'})\n",
    "results_df = results_df.merge(train, how='inner')"
   ]
  },
  {
   "cell_type": "code",
   "execution_count": 65,
   "id": "5b394719",
   "metadata": {},
   "outputs": [
    {
     "data": {
      "text/html": [
       "<div>\n",
       "<style scoped>\n",
       "    .dataframe tbody tr th:only-of-type {\n",
       "        vertical-align: middle;\n",
       "    }\n",
       "\n",
       "    .dataframe tbody tr th {\n",
       "        vertical-align: top;\n",
       "    }\n",
       "\n",
       "    .dataframe thead th {\n",
       "        text-align: right;\n",
       "    }\n",
       "</style>\n",
       "<table border=\"1\" class=\"dataframe\">\n",
       "  <thead>\n",
       "    <tr style=\"text-align: right;\">\n",
       "      <th></th>\n",
       "      <th>id</th>\n",
       "      <th>roberta_neg</th>\n",
       "      <th>roberta_neu</th>\n",
       "      <th>roberta_pos</th>\n",
       "      <th>sentiment</th>\n",
       "      <th>review</th>\n",
       "      <th>tidy_review</th>\n",
       "      <th>review_length</th>\n",
       "      <th>tidy_review_length</th>\n",
       "    </tr>\n",
       "  </thead>\n",
       "  <tbody>\n",
       "    <tr>\n",
       "      <th>0</th>\n",
       "      <td>ebbb95a49a8ef8569e4d4599c98987bb</td>\n",
       "      <td>0.826881</td>\n",
       "      <td>0.145836</td>\n",
       "      <td>0.027282</td>\n",
       "      <td>0</td>\n",
       "      <td>I was going to say this was the worst gay-them...</td>\n",
       "      <td>I was going to say this was the worst gaytheme...</td>\n",
       "      <td>1023</td>\n",
       "      <td>961</td>\n",
       "    </tr>\n",
       "    <tr>\n",
       "      <th>1</th>\n",
       "      <td>ee2510a8636106af3f9a8e91e73aba84</td>\n",
       "      <td>0.227832</td>\n",
       "      <td>0.355267</td>\n",
       "      <td>0.416901</td>\n",
       "      <td>1</td>\n",
       "      <td>Most people who have seen this movie thinks th...</td>\n",
       "      <td>Most people who have seen this movie thinks th...</td>\n",
       "      <td>462</td>\n",
       "      <td>453</td>\n",
       "    </tr>\n",
       "    <tr>\n",
       "      <th>2</th>\n",
       "      <td>662331eaa956cc8da3acf61c4f442ec0</td>\n",
       "      <td>0.131450</td>\n",
       "      <td>0.343830</td>\n",
       "      <td>0.524720</td>\n",
       "      <td>1</td>\n",
       "      <td>This film starts out with a family who were al...</td>\n",
       "      <td>This film starts out with a family who were al...</td>\n",
       "      <td>918</td>\n",
       "      <td>900</td>\n",
       "    </tr>\n",
       "    <tr>\n",
       "      <th>3</th>\n",
       "      <td>46b9f84d8d96b41b537f0dd227adad2f</td>\n",
       "      <td>0.360152</td>\n",
       "      <td>0.488255</td>\n",
       "      <td>0.151593</td>\n",
       "      <td>1</td>\n",
       "      <td>I've often wondered just how much CASPER was m...</td>\n",
       "      <td>Ive often wondered just how much CASPER was me...</td>\n",
       "      <td>1067</td>\n",
       "      <td>989</td>\n",
       "    </tr>\n",
       "    <tr>\n",
       "      <th>4</th>\n",
       "      <td>8633392ec58c652aa65d4a4fd0695532</td>\n",
       "      <td>0.201731</td>\n",
       "      <td>0.383159</td>\n",
       "      <td>0.415110</td>\n",
       "      <td>1</td>\n",
       "      <td>In my years of attending film festivals, I hav...</td>\n",
       "      <td>In my years of attending film festivals I have...</td>\n",
       "      <td>1059</td>\n",
       "      <td>991</td>\n",
       "    </tr>\n",
       "    <tr>\n",
       "      <th>...</th>\n",
       "      <td>...</td>\n",
       "      <td>...</td>\n",
       "      <td>...</td>\n",
       "      <td>...</td>\n",
       "      <td>...</td>\n",
       "      <td>...</td>\n",
       "      <td>...</td>\n",
       "      <td>...</td>\n",
       "      <td>...</td>\n",
       "    </tr>\n",
       "    <tr>\n",
       "      <th>995</th>\n",
       "      <td>e644e92dc717f32240de4e832f7d64f4</td>\n",
       "      <td>0.768460</td>\n",
       "      <td>0.173570</td>\n",
       "      <td>0.057970</td>\n",
       "      <td>0</td>\n",
       "      <td>Since \\Rugrats\\\"' falling from the category of...</td>\n",
       "      <td>Since Rugrats falling from the category of goo...</td>\n",
       "      <td>1212</td>\n",
       "      <td>1136</td>\n",
       "    </tr>\n",
       "    <tr>\n",
       "      <th>996</th>\n",
       "      <td>27bb1a8fd1178dd1800db4612c872d1f</td>\n",
       "      <td>0.002819</td>\n",
       "      <td>0.017365</td>\n",
       "      <td>0.979817</td>\n",
       "      <td>1</td>\n",
       "      <td>This movie was great! It was an excellent rend...</td>\n",
       "      <td>This movie was great It was an excellent rendi...</td>\n",
       "      <td>615</td>\n",
       "      <td>578</td>\n",
       "    </tr>\n",
       "    <tr>\n",
       "      <th>997</th>\n",
       "      <td>efd3b96e67c6871731f7ccd934b6c393</td>\n",
       "      <td>0.532550</td>\n",
       "      <td>0.416470</td>\n",
       "      <td>0.050980</td>\n",
       "      <td>0</td>\n",
       "      <td>This is not the video nastie, but only because...</td>\n",
       "      <td>This is not the video nastie but only because ...</td>\n",
       "      <td>1385</td>\n",
       "      <td>1300</td>\n",
       "    </tr>\n",
       "    <tr>\n",
       "      <th>998</th>\n",
       "      <td>0143cb662c15f59aed603eafb570729e</td>\n",
       "      <td>0.596073</td>\n",
       "      <td>0.304863</td>\n",
       "      <td>0.099064</td>\n",
       "      <td>1</td>\n",
       "      <td>I used to write comments at IMDb, but I don't ...</td>\n",
       "      <td>I used to write comments at IMDb but I dont do...</td>\n",
       "      <td>1179</td>\n",
       "      <td>1134</td>\n",
       "    </tr>\n",
       "    <tr>\n",
       "      <th>999</th>\n",
       "      <td>6a9a02567ea198ff1a6bc32cb2835f17</td>\n",
       "      <td>0.085285</td>\n",
       "      <td>0.342036</td>\n",
       "      <td>0.572679</td>\n",
       "      <td>1</td>\n",
       "      <td>The events of the 11th of September 2001 cast ...</td>\n",
       "      <td>The events of the 11th of September 2001 cast ...</td>\n",
       "      <td>1288</td>\n",
       "      <td>1267</td>\n",
       "    </tr>\n",
       "  </tbody>\n",
       "</table>\n",
       "<p>1000 rows × 9 columns</p>\n",
       "</div>"
      ],
      "text/plain": [
       "                                   id  roberta_neg  roberta_neu  roberta_pos  \\\n",
       "0    ebbb95a49a8ef8569e4d4599c98987bb     0.826881     0.145836     0.027282   \n",
       "1    ee2510a8636106af3f9a8e91e73aba84     0.227832     0.355267     0.416901   \n",
       "2    662331eaa956cc8da3acf61c4f442ec0     0.131450     0.343830     0.524720   \n",
       "3    46b9f84d8d96b41b537f0dd227adad2f     0.360152     0.488255     0.151593   \n",
       "4    8633392ec58c652aa65d4a4fd0695532     0.201731     0.383159     0.415110   \n",
       "..                                ...          ...          ...          ...   \n",
       "995  e644e92dc717f32240de4e832f7d64f4     0.768460     0.173570     0.057970   \n",
       "996  27bb1a8fd1178dd1800db4612c872d1f     0.002819     0.017365     0.979817   \n",
       "997  efd3b96e67c6871731f7ccd934b6c393     0.532550     0.416470     0.050980   \n",
       "998  0143cb662c15f59aed603eafb570729e     0.596073     0.304863     0.099064   \n",
       "999  6a9a02567ea198ff1a6bc32cb2835f17     0.085285     0.342036     0.572679   \n",
       "\n",
       "     sentiment                                             review  \\\n",
       "0            0  I was going to say this was the worst gay-them...   \n",
       "1            1  Most people who have seen this movie thinks th...   \n",
       "2            1  This film starts out with a family who were al...   \n",
       "3            1  I've often wondered just how much CASPER was m...   \n",
       "4            1  In my years of attending film festivals, I hav...   \n",
       "..         ...                                                ...   \n",
       "995          0  Since \\Rugrats\\\"' falling from the category of...   \n",
       "996          1  This movie was great! It was an excellent rend...   \n",
       "997          0  This is not the video nastie, but only because...   \n",
       "998          1  I used to write comments at IMDb, but I don't ...   \n",
       "999          1  The events of the 11th of September 2001 cast ...   \n",
       "\n",
       "                                           tidy_review  review_length  \\\n",
       "0    I was going to say this was the worst gaytheme...           1023   \n",
       "1    Most people who have seen this movie thinks th...            462   \n",
       "2    This film starts out with a family who were al...            918   \n",
       "3    Ive often wondered just how much CASPER was me...           1067   \n",
       "4    In my years of attending film festivals I have...           1059   \n",
       "..                                                 ...            ...   \n",
       "995  Since Rugrats falling from the category of goo...           1212   \n",
       "996  This movie was great It was an excellent rendi...            615   \n",
       "997  This is not the video nastie but only because ...           1385   \n",
       "998  I used to write comments at IMDb but I dont do...           1179   \n",
       "999  The events of the 11th of September 2001 cast ...           1288   \n",
       "\n",
       "     tidy_review_length  \n",
       "0                   961  \n",
       "1                   453  \n",
       "2                   900  \n",
       "3                   989  \n",
       "4                   991  \n",
       "..                  ...  \n",
       "995                1136  \n",
       "996                 578  \n",
       "997                1300  \n",
       "998                1134  \n",
       "999                1267  \n",
       "\n",
       "[1000 rows x 9 columns]"
      ]
     },
     "execution_count": 65,
     "metadata": {},
     "output_type": "execute_result"
    }
   ],
   "source": [
    "results_df"
   ]
  },
  {
   "cell_type": "code",
   "execution_count": 66,
   "id": "d5f48da4",
   "metadata": {},
   "outputs": [
    {
     "data": {
      "text/plain": [
       "0.9359175917591759"
      ]
     },
     "execution_count": 66,
     "metadata": {},
     "output_type": "execute_result"
    }
   ],
   "source": [
    "from sklearn.metrics import roc_auc_score\n",
    "roc_auc_score(results_df['sentiment'], results_df['roberta_pos'])"
   ]
  },
  {
   "cell_type": "markdown",
   "id": "536f6433",
   "metadata": {},
   "source": [
    "Трансформер, обученный на отзывах imbd"
   ]
  },
  {
   "cell_type": "code",
   "execution_count": 72,
   "id": "36d150f0",
   "metadata": {},
   "outputs": [
    {
     "data": {
      "application/vnd.jupyter.widget-view+json": {
       "model_id": "cb6001cde9c94d2883d6841e0550076e",
       "version_major": 2,
       "version_minor": 0
      },
      "text/plain": [
       "Downloading:   0%|          | 0.00/483 [00:00<?, ?B/s]"
      ]
     },
     "metadata": {},
     "output_type": "display_data"
    },
    {
     "data": {
      "application/vnd.jupyter.widget-view+json": {
       "model_id": "8ce34d6f76244fe291423aa334c4cd73",
       "version_major": 2,
       "version_minor": 0
      },
      "text/plain": [
       "Downloading:   0%|          | 0.00/268M [00:00<?, ?B/s]"
      ]
     },
     "metadata": {},
     "output_type": "display_data"
    },
    {
     "name": "stderr",
     "output_type": "stream",
     "text": [
      "Some weights of the model checkpoint at distilbert-base-uncased were not used when initializing DistilBertForSequenceClassification: ['vocab_projector.bias', 'vocab_layer_norm.bias', 'vocab_transform.weight', 'vocab_layer_norm.weight', 'vocab_projector.weight', 'vocab_transform.bias']\n",
      "- This IS expected if you are initializing DistilBertForSequenceClassification from the checkpoint of a model trained on another task or with another architecture (e.g. initializing a BertForSequenceClassification model from a BertForPreTraining model).\n",
      "- This IS NOT expected if you are initializing DistilBertForSequenceClassification from the checkpoint of a model that you expect to be exactly identical (initializing a BertForSequenceClassification model from a BertForSequenceClassification model).\n",
      "Some weights of DistilBertForSequenceClassification were not initialized from the model checkpoint at distilbert-base-uncased and are newly initialized: ['pre_classifier.weight', 'pre_classifier.bias', 'classifier.bias', 'classifier.weight']\n",
      "You should probably TRAIN this model on a down-stream task to be able to use it for predictions and inference.\n"
     ]
    }
   ],
   "source": [
    "from transformers import AutoModelForSequenceClassification\n",
    "model = AutoModelForSequenceClassification.from_pretrained(\"distilbert-base-uncased\", num_labels=2)"
   ]
  },
  {
   "cell_type": "code",
   "execution_count": 73,
   "id": "0408000d",
   "metadata": {},
   "outputs": [
    {
     "data": {
      "application/vnd.jupyter.widget-view+json": {
       "model_id": "6e68082b83c74ce892813933e8e6c931",
       "version_major": 2,
       "version_minor": 0
      },
      "text/plain": [
       "Downloading:   0%|          | 0.00/2.52k [00:00<?, ?B/s]"
      ]
     },
     "metadata": {},
     "output_type": "display_data"
    },
    {
     "data": {
      "application/vnd.jupyter.widget-view+json": {
       "model_id": "844a1212513f4d888c699c75fa2c991c",
       "version_major": 2,
       "version_minor": 0
      },
      "text/plain": [
       "Downloading:   0%|          | 0.00/466k [00:00<?, ?B/s]"
      ]
     },
     "metadata": {},
     "output_type": "display_data"
    }
   ],
   "source": [
    "from transformers import pipeline\n",
    "sentiment_model = pipeline(model=\"lvwerra/distilbert-imdb\")"
   ]
  },
  {
   "cell_type": "code",
   "execution_count": 76,
   "id": "ded1f330",
   "metadata": {},
   "outputs": [
    {
     "data": {
      "text/plain": [
       "[{'label': 'POSITIVE', 'score': 0.631574809551239}]"
      ]
     },
     "execution_count": 76,
     "metadata": {},
     "output_type": "execute_result"
    }
   ],
   "source": [
    "sentiment_model(results_df['tidy_review'][3])"
   ]
  },
  {
   "cell_type": "code",
   "execution_count": 79,
   "id": "33d388ac",
   "metadata": {},
   "outputs": [],
   "source": [
    "MODEL = f\"lvwerra/distilbert-imdb\"\n",
    "tokenizer = AutoTokenizer.from_pretrained(MODEL)\n",
    "model = AutoModelForSequenceClassification.from_pretrained(MODEL)"
   ]
  },
  {
   "cell_type": "code",
   "execution_count": 81,
   "id": "d6deaf90",
   "metadata": {},
   "outputs": [
    {
     "name": "stdout",
     "output_type": "stream",
     "text": [
      "{'imdb_neg': 0.3684252, 'imdb_pos': 0.63157475}\n"
     ]
    }
   ],
   "source": [
    "encoded_text = tokenizer(results_df['tidy_review'][3], return_tensors='pt')\n",
    "output = model(**encoded_text)\n",
    "scores = output[0][0].detach().numpy()\n",
    "scores = softmax(scores)\n",
    "scores_dict = {\n",
    "    'imdb_neg' : scores[0],\n",
    "    'imdb_pos' : scores[1]\n",
    "}\n",
    "print(scores_dict)"
   ]
  },
  {
   "cell_type": "code",
   "execution_count": 82,
   "id": "7e4fee0d",
   "metadata": {},
   "outputs": [],
   "source": [
    "def polarity_scores_imdb(example):\n",
    "    encoded_text = tokenizer(example, max_length = 511, return_tensors='pt')\n",
    "    output = model(**encoded_text)\n",
    "    scores = output[0][0].detach().numpy()\n",
    "    scores = softmax(scores)\n",
    "    scores_dict = {\n",
    "        'imdb_neg' : scores[0],\n",
    "        'imdb_pos' : scores[1]\n",
    "    }\n",
    "    return scores_dict"
   ]
  },
  {
   "cell_type": "code",
   "execution_count": 83,
   "id": "6a87c371",
   "metadata": {},
   "outputs": [
    {
     "data": {
      "application/vnd.jupyter.widget-view+json": {
       "model_id": "76aa5d427b454397b7791e250bca430b",
       "version_major": 2,
       "version_minor": 0
      },
      "text/plain": [
       "  0%|          | 0/1000 [00:00<?, ?it/s]"
      ]
     },
     "metadata": {},
     "output_type": "display_data"
    },
    {
     "name": "stderr",
     "output_type": "stream",
     "text": [
      "Truncation was not explicitly activated but `max_length` is provided a specific value, please use `truncation=True` to explicitly truncate examples to max length. Defaulting to 'longest_first' truncation strategy. If you encode pairs of sequences (GLUE-style) with the tokenizer you can select this strategy more precisely by providing a specific strategy to `truncation`.\n"
     ]
    }
   ],
   "source": [
    "res_imdb = {}\n",
    "for i, row in tqdm(results_df.iterrows(), total=len(results_df)):\n",
    "    try:\n",
    "        text = row['tidy_review']\n",
    "        myid = row['id']\n",
    "        imdb_result = polarity_scores_imdb(text)\n",
    "        res_imdb[myid] = imdb_result\n",
    "    except RuntimeError:\n",
    "        print(f'Broke for id {myid}')\n",
    "        res_imdb[myid] = {\n",
    "        'imdb_neg' : scores[0],\n",
    "        'imdb_pos' : scores[1]\n",
    "        }"
   ]
  },
  {
   "cell_type": "code",
   "execution_count": 95,
   "id": "56a5a2fe",
   "metadata": {},
   "outputs": [],
   "source": [
    "imdb_results_df = pd.DataFrame(res_imdb).T\n",
    "imdb_results_df = imdb_results_df.reset_index().rename(columns={'index': 'id'})\n",
    "imdb_results_df = imdb_results_df.merge(results_df, how='inner')"
   ]
  },
  {
   "cell_type": "code",
   "execution_count": 97,
   "id": "8e45b718",
   "metadata": {},
   "outputs": [
    {
     "data": {
      "text/html": [
       "<div>\n",
       "<style scoped>\n",
       "    .dataframe tbody tr th:only-of-type {\n",
       "        vertical-align: middle;\n",
       "    }\n",
       "\n",
       "    .dataframe tbody tr th {\n",
       "        vertical-align: top;\n",
       "    }\n",
       "\n",
       "    .dataframe thead th {\n",
       "        text-align: right;\n",
       "    }\n",
       "</style>\n",
       "<table border=\"1\" class=\"dataframe\">\n",
       "  <thead>\n",
       "    <tr style=\"text-align: right;\">\n",
       "      <th></th>\n",
       "      <th>id</th>\n",
       "      <th>imdb_neg</th>\n",
       "      <th>imdb_pos</th>\n",
       "      <th>roberta_neg</th>\n",
       "      <th>roberta_neu</th>\n",
       "      <th>roberta_pos</th>\n",
       "      <th>sentiment</th>\n",
       "      <th>review</th>\n",
       "      <th>tidy_review</th>\n",
       "      <th>review_length</th>\n",
       "      <th>tidy_review_length</th>\n",
       "    </tr>\n",
       "  </thead>\n",
       "  <tbody>\n",
       "    <tr>\n",
       "      <th>0</th>\n",
       "      <td>ebbb95a49a8ef8569e4d4599c98987bb</td>\n",
       "      <td>0.996249</td>\n",
       "      <td>0.003751</td>\n",
       "      <td>0.826881</td>\n",
       "      <td>0.145836</td>\n",
       "      <td>0.027282</td>\n",
       "      <td>0</td>\n",
       "      <td>I was going to say this was the worst gay-them...</td>\n",
       "      <td>I was going to say this was the worst gaytheme...</td>\n",
       "      <td>1023</td>\n",
       "      <td>961</td>\n",
       "    </tr>\n",
       "    <tr>\n",
       "      <th>1</th>\n",
       "      <td>ee2510a8636106af3f9a8e91e73aba84</td>\n",
       "      <td>0.016645</td>\n",
       "      <td>0.983355</td>\n",
       "      <td>0.227832</td>\n",
       "      <td>0.355267</td>\n",
       "      <td>0.416901</td>\n",
       "      <td>1</td>\n",
       "      <td>Most people who have seen this movie thinks th...</td>\n",
       "      <td>Most people who have seen this movie thinks th...</td>\n",
       "      <td>462</td>\n",
       "      <td>453</td>\n",
       "    </tr>\n",
       "    <tr>\n",
       "      <th>2</th>\n",
       "      <td>662331eaa956cc8da3acf61c4f442ec0</td>\n",
       "      <td>0.009330</td>\n",
       "      <td>0.990670</td>\n",
       "      <td>0.131450</td>\n",
       "      <td>0.343830</td>\n",
       "      <td>0.524720</td>\n",
       "      <td>1</td>\n",
       "      <td>This film starts out with a family who were al...</td>\n",
       "      <td>This film starts out with a family who were al...</td>\n",
       "      <td>918</td>\n",
       "      <td>900</td>\n",
       "    </tr>\n",
       "    <tr>\n",
       "      <th>3</th>\n",
       "      <td>46b9f84d8d96b41b537f0dd227adad2f</td>\n",
       "      <td>0.368425</td>\n",
       "      <td>0.631575</td>\n",
       "      <td>0.360152</td>\n",
       "      <td>0.488255</td>\n",
       "      <td>0.151593</td>\n",
       "      <td>1</td>\n",
       "      <td>I've often wondered just how much CASPER was m...</td>\n",
       "      <td>Ive often wondered just how much CASPER was me...</td>\n",
       "      <td>1067</td>\n",
       "      <td>989</td>\n",
       "    </tr>\n",
       "    <tr>\n",
       "      <th>4</th>\n",
       "      <td>8633392ec58c652aa65d4a4fd0695532</td>\n",
       "      <td>0.136969</td>\n",
       "      <td>0.863031</td>\n",
       "      <td>0.201731</td>\n",
       "      <td>0.383159</td>\n",
       "      <td>0.415110</td>\n",
       "      <td>1</td>\n",
       "      <td>In my years of attending film festivals, I hav...</td>\n",
       "      <td>In my years of attending film festivals I have...</td>\n",
       "      <td>1059</td>\n",
       "      <td>991</td>\n",
       "    </tr>\n",
       "  </tbody>\n",
       "</table>\n",
       "</div>"
      ],
      "text/plain": [
       "                                 id  imdb_neg  imdb_pos  roberta_neg  \\\n",
       "0  ebbb95a49a8ef8569e4d4599c98987bb  0.996249  0.003751     0.826881   \n",
       "1  ee2510a8636106af3f9a8e91e73aba84  0.016645  0.983355     0.227832   \n",
       "2  662331eaa956cc8da3acf61c4f442ec0  0.009330  0.990670     0.131450   \n",
       "3  46b9f84d8d96b41b537f0dd227adad2f  0.368425  0.631575     0.360152   \n",
       "4  8633392ec58c652aa65d4a4fd0695532  0.136969  0.863031     0.201731   \n",
       "\n",
       "   roberta_neu  roberta_pos  sentiment  \\\n",
       "0     0.145836     0.027282          0   \n",
       "1     0.355267     0.416901          1   \n",
       "2     0.343830     0.524720          1   \n",
       "3     0.488255     0.151593          1   \n",
       "4     0.383159     0.415110          1   \n",
       "\n",
       "                                              review  \\\n",
       "0  I was going to say this was the worst gay-them...   \n",
       "1  Most people who have seen this movie thinks th...   \n",
       "2  This film starts out with a family who were al...   \n",
       "3  I've often wondered just how much CASPER was m...   \n",
       "4  In my years of attending film festivals, I hav...   \n",
       "\n",
       "                                         tidy_review  review_length  \\\n",
       "0  I was going to say this was the worst gaytheme...           1023   \n",
       "1  Most people who have seen this movie thinks th...            462   \n",
       "2  This film starts out with a family who were al...            918   \n",
       "3  Ive often wondered just how much CASPER was me...           1067   \n",
       "4  In my years of attending film festivals I have...           1059   \n",
       "\n",
       "   tidy_review_length  \n",
       "0                 961  \n",
       "1                 453  \n",
       "2                 900  \n",
       "3                 989  \n",
       "4                 991  "
      ]
     },
     "execution_count": 97,
     "metadata": {},
     "output_type": "execute_result"
    }
   ],
   "source": [
    "imdb_results_df.head()"
   ]
  },
  {
   "cell_type": "code",
   "execution_count": 98,
   "id": "7b7c30f8",
   "metadata": {},
   "outputs": [
    {
     "data": {
      "text/plain": [
       "0.9852305230523052"
      ]
     },
     "execution_count": 98,
     "metadata": {},
     "output_type": "execute_result"
    }
   ],
   "source": [
    "from sklearn.metrics import roc_auc_score\n",
    "roc_auc_score(imdb_results_df['sentiment'], imdb_results_df['imdb_pos'])"
   ]
  },
  {
   "cell_type": "code",
   "execution_count": null,
   "id": "8226254b",
   "metadata": {},
   "outputs": [],
   "source": []
  }
 ],
 "metadata": {
  "kernelspec": {
   "display_name": "Python 3 (ipykernel)",
   "language": "python",
   "name": "python3"
  },
  "language_info": {
   "codemirror_mode": {
    "name": "ipython",
    "version": 3
   },
   "file_extension": ".py",
   "mimetype": "text/x-python",
   "name": "python",
   "nbconvert_exporter": "python",
   "pygments_lexer": "ipython3",
   "version": "3.9.13"
  }
 },
 "nbformat": 4,
 "nbformat_minor": 5
}
