{
 "cells": [
  {
   "cell_type": "code",
   "execution_count": 1,
   "metadata": {},
   "outputs": [],
   "source": [
    "# работа с данными\n",
    "import pandas as pd\n",
    "import numpy as np\n",
    "\n",
    "# графики\n",
    "import matplotlib\n",
    "import matplotlib.pyplot as plt \n",
    "%matplotlib inline\n",
    "import seaborn as sns\n",
    "\n",
    "# настройка графиков\n",
    "# matplotlib.rcParams['figure.figsize'] = (8, 8)\n",
    "# sns.set_style('whitegrid')\n",
    "\n",
    "# предупреждения\n",
    "import warnings \n",
    "warnings.filterwarnings(\"ignore\", category=DeprecationWarning)\n",
    "\n",
    "# tqdm\n",
    "from tqdm.notebook import tqdm\n",
    "# time\n",
    "import itertools\n",
    "\n",
    "# работа с файлами\n",
    "import pickle\n",
    "import json"
   ]
  },
  {
   "cell_type": "code",
   "execution_count": 2,
   "metadata": {},
   "outputs": [],
   "source": [
    "unlabeled = pd.read_csv(\"C:/Users/ranas/ML course/Competitions/Second competition/data/raw/unlabeled_data.csv\")\n",
    "train  = pd.read_csv(\"C:/Users/ranas/ML course/Competitions/Second competition/data/raw/train.csv\")\n",
    "test = pd.read_csv(\"C:/Users/ranas/ML course/Competitions/Second competition/data/raw/test.csv\")"
   ]
  },
  {
   "cell_type": "code",
   "execution_count": 3,
   "metadata": {},
   "outputs": [
    {
     "data": {
      "text/plain": [
       "((74998, 2), (12500, 3), (12500, 2))"
      ]
     },
     "execution_count": 3,
     "metadata": {},
     "output_type": "execute_result"
    }
   ],
   "source": [
    "unlabeled.shape, train.shape, test.shape"
   ]
  },
  {
   "cell_type": "code",
   "execution_count": 4,
   "metadata": {},
   "outputs": [
    {
     "data": {
      "text/html": [
       "<div>\n",
       "<style scoped>\n",
       "    .dataframe tbody tr th:only-of-type {\n",
       "        vertical-align: middle;\n",
       "    }\n",
       "\n",
       "    .dataframe tbody tr th {\n",
       "        vertical-align: top;\n",
       "    }\n",
       "\n",
       "    .dataframe thead th {\n",
       "        text-align: right;\n",
       "    }\n",
       "</style>\n",
       "<table border=\"1\" class=\"dataframe\">\n",
       "  <thead>\n",
       "    <tr style=\"text-align: right;\">\n",
       "      <th></th>\n",
       "      <th>id</th>\n",
       "      <th>review</th>\n",
       "    </tr>\n",
       "  </thead>\n",
       "  <tbody>\n",
       "    <tr>\n",
       "      <th>0</th>\n",
       "      <td>1d4e7f9b3d622c1156b1f04b8b29bb4d</td>\n",
       "      <td>Watching Time Chasers, it obvious that it was made by a bunch of friends. Maybe they were sitting around one day in film school and said, \\Hey, let's pool our money together and make a really bad ...</td>\n",
       "    </tr>\n",
       "    <tr>\n",
       "      <th>1</th>\n",
       "      <td>f52c19620f23822f8ec0280af65c7d32</td>\n",
       "      <td>I saw this film about 20 years ago and remember it as being particularly nasty. I believe it is based on a true incident: a young man breaks into a nurses' home and rapes, tortures and kills vario...</td>\n",
       "    </tr>\n",
       "    <tr>\n",
       "      <th>2</th>\n",
       "      <td>83e2fd63fea620ebd7f8682b738ec18b</td>\n",
       "      <td>Minor Spoilers&lt;br /&gt;&lt;br /&gt;In New York, Joan Barnard (Elvire Audrey) is informed that her husband, the archeologist Arthur Barnard (John Saxon), was mysteriously murdered in Italy while searching a...</td>\n",
       "    </tr>\n",
       "    <tr>\n",
       "      <th>3</th>\n",
       "      <td>a695d66856c559b9369d8586db55cec2</td>\n",
       "      <td>I went to see this film with a great deal of excitement as I was at school with the director, he was even a good friend of mine for a while. But sorry mate, this film stinks.&lt;br /&gt;&lt;br /&gt;I can only...</td>\n",
       "    </tr>\n",
       "    <tr>\n",
       "      <th>4</th>\n",
       "      <td>9559ea9753ab7773464505015830f946</td>\n",
       "      <td>Yes, I agree with everyone on this site this movie is VERY VERY bad. To even call this a movie is an insult to all movies ever made. It's 40 minutes long.&lt;br /&gt;&lt;br /&gt;Someone compares this movie to...</td>\n",
       "    </tr>\n",
       "  </tbody>\n",
       "</table>\n",
       "</div>"
      ],
      "text/plain": [
       "                                 id  \\\n",
       "0  1d4e7f9b3d622c1156b1f04b8b29bb4d   \n",
       "1  f52c19620f23822f8ec0280af65c7d32   \n",
       "2  83e2fd63fea620ebd7f8682b738ec18b   \n",
       "3  a695d66856c559b9369d8586db55cec2   \n",
       "4  9559ea9753ab7773464505015830f946   \n",
       "\n",
       "                                                                                                                                                                                                    review  \n",
       "0  Watching Time Chasers, it obvious that it was made by a bunch of friends. Maybe they were sitting around one day in film school and said, \\Hey, let's pool our money together and make a really bad ...  \n",
       "1  I saw this film about 20 years ago and remember it as being particularly nasty. I believe it is based on a true incident: a young man breaks into a nurses' home and rapes, tortures and kills vario...  \n",
       "2  Minor Spoilers<br /><br />In New York, Joan Barnard (Elvire Audrey) is informed that her husband, the archeologist Arthur Barnard (John Saxon), was mysteriously murdered in Italy while searching a...  \n",
       "3  I went to see this film with a great deal of excitement as I was at school with the director, he was even a good friend of mine for a while. But sorry mate, this film stinks.<br /><br />I can only...  \n",
       "4  Yes, I agree with everyone on this site this movie is VERY VERY bad. To even call this a movie is an insult to all movies ever made. It's 40 minutes long.<br /><br />Someone compares this movie to...  "
      ]
     },
     "execution_count": 4,
     "metadata": {},
     "output_type": "execute_result"
    }
   ],
   "source": [
    "pd.set_option(\"display.max_colwidth\", 200)\n",
    "unlabeled.head()"
   ]
  },
  {
   "cell_type": "code",
   "execution_count": 5,
   "metadata": {},
   "outputs": [
    {
     "data": {
      "text/html": [
       "<div>\n",
       "<style scoped>\n",
       "    .dataframe tbody tr th:only-of-type {\n",
       "        vertical-align: middle;\n",
       "    }\n",
       "\n",
       "    .dataframe tbody tr th {\n",
       "        vertical-align: top;\n",
       "    }\n",
       "\n",
       "    .dataframe thead th {\n",
       "        text-align: right;\n",
       "    }\n",
       "</style>\n",
       "<table border=\"1\" class=\"dataframe\">\n",
       "  <thead>\n",
       "    <tr style=\"text-align: right;\">\n",
       "      <th></th>\n",
       "      <th>id</th>\n",
       "      <th>sentiment</th>\n",
       "      <th>review</th>\n",
       "    </tr>\n",
       "  </thead>\n",
       "  <tbody>\n",
       "    <tr>\n",
       "      <th>0</th>\n",
       "      <td>c77111d1e3526ac0f7cf13af46b65e65</td>\n",
       "      <td>1</td>\n",
       "      <td>I thought the film could be a bit more complex,in a psychological sense perhaps, but the action and voice acting were top notch. The animation was heavy CG in many scenes, but very good ones at th...</td>\n",
       "    </tr>\n",
       "    <tr>\n",
       "      <th>1</th>\n",
       "      <td>c4806c50f6560aa65f15ed69a25940f2</td>\n",
       "      <td>0</td>\n",
       "      <td>...except for Jon Heder. This guy tanked the entire movie.&lt;br /&gt;&lt;br /&gt;The plot sounded entertaining. A 29 year old slacker son(Heder)still lives with widowed mom (Keaton)who happens to meet a new ...</td>\n",
       "    </tr>\n",
       "    <tr>\n",
       "      <th>2</th>\n",
       "      <td>82b113c68594c74ab8dbe630206ec28a</td>\n",
       "      <td>1</td>\n",
       "      <td>Jim Carrey is good as usual, and even though there are quite a few \\Jim Carrey moments\\\", it's definitely not a \\\"Jim Carrey movie\\\".&lt;br /&gt;&lt;br /&gt;It's targeted mostly at children, and I managed to ...</td>\n",
       "    </tr>\n",
       "    <tr>\n",
       "      <th>3</th>\n",
       "      <td>3d9891905de05248dfc2550239bd4687</td>\n",
       "      <td>1</td>\n",
       "      <td>Just read the original story which is written by Pu in 18th century. Strikingly, the movie despict the original spirit very well, though the plot was modified tremendously. The film language, the ...</td>\n",
       "    </tr>\n",
       "    <tr>\n",
       "      <th>4</th>\n",
       "      <td>da8d5a23f01e129b534022149825caa2</td>\n",
       "      <td>1</td>\n",
       "      <td>I watched this film over a hundred times. It is really best Serbian movie made ever.I wood like to recommend this movie to everyone. It is very good comedy. I surely like it!!!!</td>\n",
       "    </tr>\n",
       "  </tbody>\n",
       "</table>\n",
       "</div>"
      ],
      "text/plain": [
       "                                 id  sentiment  \\\n",
       "0  c77111d1e3526ac0f7cf13af46b65e65          1   \n",
       "1  c4806c50f6560aa65f15ed69a25940f2          0   \n",
       "2  82b113c68594c74ab8dbe630206ec28a          1   \n",
       "3  3d9891905de05248dfc2550239bd4687          1   \n",
       "4  da8d5a23f01e129b534022149825caa2          1   \n",
       "\n",
       "                                                                                                                                                                                                    review  \n",
       "0  I thought the film could be a bit more complex,in a psychological sense perhaps, but the action and voice acting were top notch. The animation was heavy CG in many scenes, but very good ones at th...  \n",
       "1  ...except for Jon Heder. This guy tanked the entire movie.<br /><br />The plot sounded entertaining. A 29 year old slacker son(Heder)still lives with widowed mom (Keaton)who happens to meet a new ...  \n",
       "2  Jim Carrey is good as usual, and even though there are quite a few \\Jim Carrey moments\\\", it's definitely not a \\\"Jim Carrey movie\\\".<br /><br />It's targeted mostly at children, and I managed to ...  \n",
       "3  Just read the original story which is written by Pu in 18th century. Strikingly, the movie despict the original spirit very well, though the plot was modified tremendously. The film language, the ...  \n",
       "4                        I watched this film over a hundred times. It is really best Serbian movie made ever.I wood like to recommend this movie to everyone. It is very good comedy. I surely like it!!!!  "
      ]
     },
     "execution_count": 5,
     "metadata": {},
     "output_type": "execute_result"
    }
   ],
   "source": [
    "train.head()"
   ]
  },
  {
   "cell_type": "code",
   "execution_count": 6,
   "metadata": {},
   "outputs": [
    {
     "data": {
      "text/html": [
       "<div>\n",
       "<style scoped>\n",
       "    .dataframe tbody tr th:only-of-type {\n",
       "        vertical-align: middle;\n",
       "    }\n",
       "\n",
       "    .dataframe tbody tr th {\n",
       "        vertical-align: top;\n",
       "    }\n",
       "\n",
       "    .dataframe thead th {\n",
       "        text-align: right;\n",
       "    }\n",
       "</style>\n",
       "<table border=\"1\" class=\"dataframe\">\n",
       "  <thead>\n",
       "    <tr style=\"text-align: right;\">\n",
       "      <th></th>\n",
       "      <th>id</th>\n",
       "      <th>review</th>\n",
       "    </tr>\n",
       "  </thead>\n",
       "  <tbody>\n",
       "    <tr>\n",
       "      <th>0</th>\n",
       "      <td>d7593a4a9f7bade74d17667e488a6f3e</td>\n",
       "      <td>I read that \\There's a Girl in My Soup\\\" came out during Peter Sellers's low period. Watching the movie, I'm not surprised. Almost nothing happens in the movie. Seemingly, the very presence of Sel...</td>\n",
       "    </tr>\n",
       "    <tr>\n",
       "      <th>1</th>\n",
       "      <td>2294e3b907d750dcc32c35be503da86a</td>\n",
       "      <td>This film pulls you in from the get-go because it grabs our attention by acknowledging, yeah, that this story is opening with a cliché  a funeral.&lt;br /&gt;&lt;br /&gt;In hands other than Judi's I wouldn't...</td>\n",
       "    </tr>\n",
       "    <tr>\n",
       "      <th>2</th>\n",
       "      <td>43acdaff0a72ab9a365104db9b163f2e</td>\n",
       "      <td>From the awful death scenes to guns that fire without making sounds to a character called the Fiend. It's all tiresome, slow moving, unimaginative drivel. It was OK seeing the guy with the cape an...</td>\n",
       "    </tr>\n",
       "    <tr>\n",
       "      <th>3</th>\n",
       "      <td>0b061ac5f9c62e45fe922ee28819b73b</td>\n",
       "      <td>I saw that movie few days ago. This movie is so great that it makes me feel that if you want something really bad that you have always dreamed about it - you can have it. This shows a big wish com...</td>\n",
       "    </tr>\n",
       "    <tr>\n",
       "      <th>4</th>\n",
       "      <td>a80165e5617c4a46a019c4424637f68e</td>\n",
       "      <td>For a film with so much promise it was disappointing, thinly plotted and the acting ranging between horrendous and unbelievable.The plot had more holes in it than swiss cheese and it's the worst c...</td>\n",
       "    </tr>\n",
       "  </tbody>\n",
       "</table>\n",
       "</div>"
      ],
      "text/plain": [
       "                                 id  \\\n",
       "0  d7593a4a9f7bade74d17667e488a6f3e   \n",
       "1  2294e3b907d750dcc32c35be503da86a   \n",
       "2  43acdaff0a72ab9a365104db9b163f2e   \n",
       "3  0b061ac5f9c62e45fe922ee28819b73b   \n",
       "4  a80165e5617c4a46a019c4424637f68e   \n",
       "\n",
       "                                                                                                                                                                                                    review  \n",
       "0  I read that \\There's a Girl in My Soup\\\" came out during Peter Sellers's low period. Watching the movie, I'm not surprised. Almost nothing happens in the movie. Seemingly, the very presence of Sel...  \n",
       "1  This film pulls you in from the get-go because it grabs our attention by acknowledging, yeah, that this story is opening with a cliché  a funeral.<br /><br />In hands other than Judi's I wouldn't...  \n",
       "2  From the awful death scenes to guns that fire without making sounds to a character called the Fiend. It's all tiresome, slow moving, unimaginative drivel. It was OK seeing the guy with the cape an...  \n",
       "3  I saw that movie few days ago. This movie is so great that it makes me feel that if you want something really bad that you have always dreamed about it - you can have it. This shows a big wish com...  \n",
       "4  For a film with so much promise it was disappointing, thinly plotted and the acting ranging between horrendous and unbelievable.The plot had more holes in it than swiss cheese and it's the worst c...  "
      ]
     },
     "execution_count": 6,
     "metadata": {},
     "output_type": "execute_result"
    }
   ],
   "source": [
    "test.head()"
   ]
  },
  {
   "cell_type": "code",
   "execution_count": 7,
   "metadata": {},
   "outputs": [
    {
     "data": {
      "text/plain": [
       "0    6302\n",
       "1    6198\n",
       "Name: sentiment, dtype: int64"
      ]
     },
     "execution_count": 7,
     "metadata": {},
     "output_type": "execute_result"
    }
   ],
   "source": [
    "train['sentiment'].value_counts()"
   ]
  },
  {
   "cell_type": "code",
   "execution_count": 12,
   "metadata": {},
   "outputs": [],
   "source": [
    "import sys\n",
    "sys.path.insert(1, 'C:/Users/ranas/ML course/Competitions/Second competition/functions')"
   ]
  },
  {
   "cell_type": "code",
   "execution_count": 13,
   "metadata": {},
   "outputs": [
    {
     "name": "stderr",
     "output_type": "stream",
     "text": [
      "[nltk_data] Downloading package stopwords to\n",
      "[nltk_data]     C:\\Users\\ranas\\AppData\\Roaming\\nltk_data...\n",
      "[nltk_data]   Package stopwords is already up-to-date!\n"
     ]
    }
   ],
   "source": [
    "from data_preprocess import text_cleaning"
   ]
  },
  {
   "cell_type": "code",
   "execution_count": 14,
   "metadata": {},
   "outputs": [
    {
     "data": {
      "application/vnd.jupyter.widget-view+json": {
       "model_id": "3a8f675e96c5408484254c082527a7af",
       "version_major": 2,
       "version_minor": 0
      },
      "text/plain": [
       "  0%|          | 0/74998 [00:00<?, ?it/s]"
      ]
     },
     "metadata": {},
     "output_type": "display_data"
    },
    {
     "name": "stderr",
     "output_type": "stream",
     "text": [
      "C:\\Users\\ranas\\anaconda3\\lib\\site-packages\\bs4\\__init__.py:435: MarkupResemblesLocatorWarning: The input looks more like a filename than markup. You may want to open this file and pass the filehandle into Beautiful Soup.\n",
      "  warnings.warn(\n"
     ]
    },
    {
     "data": {
      "text/html": [
       "<div>\n",
       "<style scoped>\n",
       "    .dataframe tbody tr th:only-of-type {\n",
       "        vertical-align: middle;\n",
       "    }\n",
       "\n",
       "    .dataframe tbody tr th {\n",
       "        vertical-align: top;\n",
       "    }\n",
       "\n",
       "    .dataframe thead th {\n",
       "        text-align: right;\n",
       "    }\n",
       "</style>\n",
       "<table border=\"1\" class=\"dataframe\">\n",
       "  <thead>\n",
       "    <tr style=\"text-align: right;\">\n",
       "      <th></th>\n",
       "      <th>id</th>\n",
       "      <th>review</th>\n",
       "      <th>tidy_review</th>\n",
       "    </tr>\n",
       "  </thead>\n",
       "  <tbody>\n",
       "    <tr>\n",
       "      <th>0</th>\n",
       "      <td>1d4e7f9b3d622c1156b1f04b8b29bb4d</td>\n",
       "      <td>Watching Time Chasers, it obvious that it was made by a bunch of friends. Maybe they were sitting around one day in film school and said, \\Hey, let's pool our money together and make a really bad ...</td>\n",
       "      <td>watch time chaser obviou made bunch friend mayb sit around one day film school said hey let pool money togeth make realli bad movi someth like ever said still end make realli bad movi dull stori b...</td>\n",
       "    </tr>\n",
       "    <tr>\n",
       "      <th>1</th>\n",
       "      <td>f52c19620f23822f8ec0280af65c7d32</td>\n",
       "      <td>I saw this film about 20 years ago and remember it as being particularly nasty. I believe it is based on a true incident: a young man breaks into a nurses' home and rapes, tortures and kills vario...</td>\n",
       "      <td>saw film year ago rememb particularli nasti believ base true incid young man break nurs home rape tortur kill variou women black white save colour one shock shot end film seem tri make polit state...</td>\n",
       "    </tr>\n",
       "    <tr>\n",
       "      <th>2</th>\n",
       "      <td>83e2fd63fea620ebd7f8682b738ec18b</td>\n",
       "      <td>Minor Spoilers&lt;br /&gt;&lt;br /&gt;In New York, Joan Barnard (Elvire Audrey) is informed that her husband, the archeologist Arthur Barnard (John Saxon), was mysteriously murdered in Italy while searching a...</td>\n",
       "      <td>minor spoilersin new york joan barnard elvir audrey inform husband archeologist arthur barnard john saxon mysteri murder itali search etruscan tomb joan decid travel itali compani colleagu offer s...</td>\n",
       "    </tr>\n",
       "    <tr>\n",
       "      <th>3</th>\n",
       "      <td>a695d66856c559b9369d8586db55cec2</td>\n",
       "      <td>I went to see this film with a great deal of excitement as I was at school with the director, he was even a good friend of mine for a while. But sorry mate, this film stinks.&lt;br /&gt;&lt;br /&gt;I can only...</td>\n",
       "      <td>went see film great deal excit school director even good friend mine sorri mate film stink talk wrong first half walk went pub much need drink someon stand balconi jump send helicopt shine searchl...</td>\n",
       "    </tr>\n",
       "    <tr>\n",
       "      <th>4</th>\n",
       "      <td>9559ea9753ab7773464505015830f946</td>\n",
       "      <td>Yes, I agree with everyone on this site this movie is VERY VERY bad. To even call this a movie is an insult to all movies ever made. It's 40 minutes long.&lt;br /&gt;&lt;br /&gt;Someone compares this movie to...</td>\n",
       "      <td>ye agre everyon site movi bad even call movi insult movi ever made minut long someon compar movi school special b n g describ perfectli packag movi intent mislead exampl titl movi describ movi rub...</td>\n",
       "    </tr>\n",
       "  </tbody>\n",
       "</table>\n",
       "</div>"
      ],
      "text/plain": [
       "                                 id  \\\n",
       "0  1d4e7f9b3d622c1156b1f04b8b29bb4d   \n",
       "1  f52c19620f23822f8ec0280af65c7d32   \n",
       "2  83e2fd63fea620ebd7f8682b738ec18b   \n",
       "3  a695d66856c559b9369d8586db55cec2   \n",
       "4  9559ea9753ab7773464505015830f946   \n",
       "\n",
       "                                                                                                                                                                                                    review  \\\n",
       "0  Watching Time Chasers, it obvious that it was made by a bunch of friends. Maybe they were sitting around one day in film school and said, \\Hey, let's pool our money together and make a really bad ...   \n",
       "1  I saw this film about 20 years ago and remember it as being particularly nasty. I believe it is based on a true incident: a young man breaks into a nurses' home and rapes, tortures and kills vario...   \n",
       "2  Minor Spoilers<br /><br />In New York, Joan Barnard (Elvire Audrey) is informed that her husband, the archeologist Arthur Barnard (John Saxon), was mysteriously murdered in Italy while searching a...   \n",
       "3  I went to see this film with a great deal of excitement as I was at school with the director, he was even a good friend of mine for a while. But sorry mate, this film stinks.<br /><br />I can only...   \n",
       "4  Yes, I agree with everyone on this site this movie is VERY VERY bad. To even call this a movie is an insult to all movies ever made. It's 40 minutes long.<br /><br />Someone compares this movie to...   \n",
       "\n",
       "                                                                                                                                                                                               tidy_review  \n",
       "0  watch time chaser obviou made bunch friend mayb sit around one day film school said hey let pool money togeth make realli bad movi someth like ever said still end make realli bad movi dull stori b...  \n",
       "1  saw film year ago rememb particularli nasti believ base true incid young man break nurs home rape tortur kill variou women black white save colour one shock shot end film seem tri make polit state...  \n",
       "2  minor spoilersin new york joan barnard elvir audrey inform husband archeologist arthur barnard john saxon mysteri murder itali search etruscan tomb joan decid travel itali compani colleagu offer s...  \n",
       "3  went see film great deal excit school director even good friend mine sorri mate film stink talk wrong first half walk went pub much need drink someon stand balconi jump send helicopt shine searchl...  \n",
       "4  ye agre everyon site movi bad even call movi insult movi ever made minut long someon compar movi school special b n g describ perfectli packag movi intent mislead exampl titl movi describ movi rub...  "
      ]
     },
     "execution_count": 14,
     "metadata": {},
     "output_type": "execute_result"
    }
   ],
   "source": [
    "unlabeled = text_cleaning(unlabeled, 'review')\n",
    "unlabeled.head()"
   ]
  },
  {
   "cell_type": "code",
   "execution_count": 16,
   "metadata": {},
   "outputs": [
    {
     "data": {
      "text/plain": [
       "'Yes, I agree with everyone on this site this movie is VERY VERY bad. To even call this a movie is an insult to all movies ever made. It\\'s 40 minutes long.<br /><br />Someone compares this movie to an after school special. B-I-N-G-O! That describes is perfectly.<br /><br />The packaging for this movie intentionally is misleading. For example, the title of this movie should describe the movie. Rubberface??? That should be the first hint. It was retitled with a new package of some goofy face Jim probably made in his stand-up days. I was hoping for more stand-up from Jim. If you like Jim now as an actor. You would love him in his stand up days. Still trying to locate the Rodney Dangerfield Young Comedians Special from HBO that featured Jim in his early career days. It isn\\'t even mentioned on this site. I\\'d love to find anything Jim did stand-up wise.<br /><br />Also Jim Carrey is a supporting actor in this movie. The main character is VERY VERY annoying. She is some girl lacking self confidence but yet wants to be a stand up comedian. Jim is there to say lines like \\\\That\\'s Funny Janet\\\\\" and \\\\\"You really are talented\\\\\". And honestly she is terrible really terrible. <br /><br />And the movie is terrible. Beware of false advertising and a really bad movie.<br /><br />\"'"
      ]
     },
     "execution_count": 16,
     "metadata": {},
     "output_type": "execute_result"
    }
   ],
   "source": [
    "unlabeled.iloc[4, 1]"
   ]
  },
  {
   "cell_type": "code",
   "execution_count": 17,
   "metadata": {},
   "outputs": [
    {
     "data": {
      "text/plain": [
       "'ye agre everyon site movi bad even call movi insult movi ever made minut long someon compar movi school special b n g describ perfectli packag movi intent mislead exampl titl movi describ movi rubberfac first hint retitl new packag goofi face jim probabl made stand day hope stand jim like jim actor would love stand day still tri locat rodney dangerfield young comedian special hbo featur jim earli career day even mention site love find anyth jim stand wise also jim carrey support actor movi main charact annoy girl lack self confid yet want stand comedian jim say line like funni janet realli talent honestli terribl realli terribl movi terribl bewar fals advertis realli bad movi'"
      ]
     },
     "execution_count": 17,
     "metadata": {},
     "output_type": "execute_result"
    }
   ],
   "source": [
    "unlabeled.iloc[4, 2]"
   ]
  },
  {
   "cell_type": "code",
   "execution_count": 20,
   "metadata": {},
   "outputs": [],
   "source": [
    "unlabeled['sentiment'] = np.nan"
   ]
  },
  {
   "cell_type": "code",
   "execution_count": 18,
   "metadata": {},
   "outputs": [
    {
     "data": {
      "application/vnd.jupyter.widget-view+json": {
       "model_id": "e5971ad358414d1db9ba76f5bd13bbbc",
       "version_major": 2,
       "version_minor": 0
      },
      "text/plain": [
       "  0%|          | 0/12500 [00:00<?, ?it/s]"
      ]
     },
     "metadata": {},
     "output_type": "display_data"
    },
    {
     "name": "stderr",
     "output_type": "stream",
     "text": [
      "C:\\Users/ranas/ML course/Competitions/Second competition/functions\\data_preprocess.py:47: SettingWithCopyWarning: \n",
      "A value is trying to be set on a copy of a slice from a DataFrame\n",
      "\n",
      "See the caveats in the documentation: https://pandas.pydata.org/pandas-docs/stable/user_guide/indexing.html#returning-a-view-versus-a-copy\n",
      "  df['tidy_review'][j] = text\n",
      "C:\\Users\\ranas\\anaconda3\\lib\\site-packages\\bs4\\__init__.py:435: MarkupResemblesLocatorWarning: The input looks more like a filename than markup. You may want to open this file and pass the filehandle into Beautiful Soup.\n",
      "  warnings.warn(\n"
     ]
    },
    {
     "data": {
      "text/html": [
       "<div>\n",
       "<style scoped>\n",
       "    .dataframe tbody tr th:only-of-type {\n",
       "        vertical-align: middle;\n",
       "    }\n",
       "\n",
       "    .dataframe tbody tr th {\n",
       "        vertical-align: top;\n",
       "    }\n",
       "\n",
       "    .dataframe thead th {\n",
       "        text-align: right;\n",
       "    }\n",
       "</style>\n",
       "<table border=\"1\" class=\"dataframe\">\n",
       "  <thead>\n",
       "    <tr style=\"text-align: right;\">\n",
       "      <th></th>\n",
       "      <th>id</th>\n",
       "      <th>sentiment</th>\n",
       "      <th>review</th>\n",
       "      <th>tidy_review</th>\n",
       "    </tr>\n",
       "  </thead>\n",
       "  <tbody>\n",
       "    <tr>\n",
       "      <th>0</th>\n",
       "      <td>c77111d1e3526ac0f7cf13af46b65e65</td>\n",
       "      <td>1</td>\n",
       "      <td>I thought the film could be a bit more complex,in a psychological sense perhaps, but the action and voice acting were top notch. The animation was heavy CG in many scenes, but very good ones at th...</td>\n",
       "      <td>thought film could bit complex psycholog sens perhap action voic act top notch anim heavi cg mani scene good one one batman return forev type film includ romanc conflict wayn motiv date fan would ...</td>\n",
       "    </tr>\n",
       "    <tr>\n",
       "      <th>1</th>\n",
       "      <td>c4806c50f6560aa65f15ed69a25940f2</td>\n",
       "      <td>0</td>\n",
       "      <td>...except for Jon Heder. This guy tanked the entire movie.&lt;br /&gt;&lt;br /&gt;The plot sounded entertaining. A 29 year old slacker son(Heder)still lives with widowed mom (Keaton)who happens to meet a new ...</td>\n",
       "      <td>except jon heder guy tank entir movi plot sound entertain year old slacker son heder still live widow mom keaton happen meet new love daniel slacker son jealou anxiou lose comfort life tri sabotag...</td>\n",
       "    </tr>\n",
       "    <tr>\n",
       "      <th>2</th>\n",
       "      <td>82b113c68594c74ab8dbe630206ec28a</td>\n",
       "      <td>1</td>\n",
       "      <td>Jim Carrey is good as usual, and even though there are quite a few \\Jim Carrey moments\\\", it's definitely not a \\\"Jim Carrey movie\\\".&lt;br /&gt;&lt;br /&gt;It's targeted mostly at children, and I managed to ...</td>\n",
       "      <td>jim carrey good usual even though quit jim carrey moment definit jim carrey movi target mostli children manag enjoy movi promot israel anoth jim carrey movi expect weird top comedi disappoint movi...</td>\n",
       "    </tr>\n",
       "    <tr>\n",
       "      <th>3</th>\n",
       "      <td>3d9891905de05248dfc2550239bd4687</td>\n",
       "      <td>1</td>\n",
       "      <td>Just read the original story which is written by Pu in 18th century. Strikingly, the movie despict the original spirit very well, though the plot was modified tremendously. The film language, the ...</td>\n",
       "      <td>read origin stori written pu th centuri strikingli movi despict origin spirit well though plot modifi tremend film languag rhythm special effect hollywood still chines core amaz hark tsui manag co...</td>\n",
       "    </tr>\n",
       "    <tr>\n",
       "      <th>4</th>\n",
       "      <td>da8d5a23f01e129b534022149825caa2</td>\n",
       "      <td>1</td>\n",
       "      <td>I watched this film over a hundred times. It is really best Serbian movie made ever.I wood like to recommend this movie to everyone. It is very good comedy. I surely like it!!!!</td>\n",
       "      <td>watch film hundr time realli best serbian movi made ever wood like recommend movi everyon good comedi sure like</td>\n",
       "    </tr>\n",
       "  </tbody>\n",
       "</table>\n",
       "</div>"
      ],
      "text/plain": [
       "                                 id  sentiment  \\\n",
       "0  c77111d1e3526ac0f7cf13af46b65e65          1   \n",
       "1  c4806c50f6560aa65f15ed69a25940f2          0   \n",
       "2  82b113c68594c74ab8dbe630206ec28a          1   \n",
       "3  3d9891905de05248dfc2550239bd4687          1   \n",
       "4  da8d5a23f01e129b534022149825caa2          1   \n",
       "\n",
       "                                                                                                                                                                                                    review  \\\n",
       "0  I thought the film could be a bit more complex,in a psychological sense perhaps, but the action and voice acting were top notch. The animation was heavy CG in many scenes, but very good ones at th...   \n",
       "1  ...except for Jon Heder. This guy tanked the entire movie.<br /><br />The plot sounded entertaining. A 29 year old slacker son(Heder)still lives with widowed mom (Keaton)who happens to meet a new ...   \n",
       "2  Jim Carrey is good as usual, and even though there are quite a few \\Jim Carrey moments\\\", it's definitely not a \\\"Jim Carrey movie\\\".<br /><br />It's targeted mostly at children, and I managed to ...   \n",
       "3  Just read the original story which is written by Pu in 18th century. Strikingly, the movie despict the original spirit very well, though the plot was modified tremendously. The film language, the ...   \n",
       "4                        I watched this film over a hundred times. It is really best Serbian movie made ever.I wood like to recommend this movie to everyone. It is very good comedy. I surely like it!!!!   \n",
       "\n",
       "                                                                                                                                                                                               tidy_review  \n",
       "0  thought film could bit complex psycholog sens perhap action voic act top notch anim heavi cg mani scene good one one batman return forev type film includ romanc conflict wayn motiv date fan would ...  \n",
       "1  except jon heder guy tank entir movi plot sound entertain year old slacker son heder still live widow mom keaton happen meet new love daniel slacker son jealou anxiou lose comfort life tri sabotag...  \n",
       "2  jim carrey good usual even though quit jim carrey moment definit jim carrey movi target mostli children manag enjoy movi promot israel anoth jim carrey movi expect weird top comedi disappoint movi...  \n",
       "3  read origin stori written pu th centuri strikingli movi despict origin spirit well though plot modifi tremend film languag rhythm special effect hollywood still chines core amaz hark tsui manag co...  \n",
       "4                                                                                          watch film hundr time realli best serbian movi made ever wood like recommend movi everyon good comedi sure like  "
      ]
     },
     "execution_count": 18,
     "metadata": {},
     "output_type": "execute_result"
    }
   ],
   "source": [
    "train = text_cleaning(train, 'review')\n",
    "train.head()"
   ]
  },
  {
   "cell_type": "code",
   "execution_count": 26,
   "metadata": {},
   "outputs": [
    {
     "data": {
      "text/plain": [
       "0    watch time chaser obviou made bunch friend mayb sit around one day film school said hey let pool money togeth make realli bad movi someth like ever said still end make realli bad movi dull stori b...\n",
       "1    saw film year ago rememb particularli nasti believ base true incid young man break nurs home rape tortur kill variou women black white save colour one shock shot end film seem tri make polit state...\n",
       "2    minor spoilersin new york joan barnard elvir audrey inform husband archeologist arthur barnard john saxon mysteri murder itali search etruscan tomb joan decid travel itali compani colleagu offer s...\n",
       "3    went see film great deal excit school director even good friend mine sorri mate film stink talk wrong first half walk went pub much need drink someon stand balconi jump send helicopt shine searchl...\n",
       "4    ye agre everyon site movi bad even call movi insult movi ever made minut long someon compar movi school special b n g describ perfectli packag movi intent mislead exampl titl movi describ movi rub...\n",
       "Name: tidy_review, dtype: object"
      ]
     },
     "execution_count": 26,
     "metadata": {},
     "output_type": "execute_result"
    }
   ],
   "source": [
    "tidy_texts = pd.concat([unlabeled['tidy_review'], train['tidy_review']], ignore_index = True)\n",
    "tidy_texts.head()"
   ]
  },
  {
   "cell_type": "markdown",
   "metadata": {},
   "source": [
    "## Word2vec embedding"
   ]
  },
  {
   "cell_type": "code",
   "execution_count": 29,
   "metadata": {},
   "outputs": [
    {
     "name": "stdout",
     "output_type": "stream",
     "text": [
      "vocab size: 24829\n"
     ]
    }
   ],
   "source": [
    "from gensim.models import Word2Vec\n",
    "\n",
    "tokenized_tidy_texts = tidy_texts.apply(lambda x: x.split())\n",
    "\n",
    "model_w2v = Word2Vec(tokenized_tidy_texts,\n",
    "                              min_count=10, \n",
    "                              workers=4,\n",
    "                              vector_size=200,\n",
    "                              window=5)\n",
    "\n",
    "words = list(model_w2v.wv.key_to_index)\n",
    "print(\"vocab size:\", len(words))"
   ]
  },
  {
   "cell_type": "code",
   "execution_count": 32,
   "metadata": {},
   "outputs": [],
   "source": [
    "model_name = \"model_w2v_1\"\n",
    "model_w2v.save(model_name)"
   ]
  },
  {
   "cell_type": "code",
   "execution_count": 35,
   "metadata": {},
   "outputs": [
    {
     "data": {
      "text/plain": [
       "[('film', 0.8315088748931885),\n",
       " ('flick', 0.6536601781845093),\n",
       " ('realli', 0.5862558484077454),\n",
       " ('think', 0.5726356506347656),\n",
       " ('one', 0.5243269801139832),\n",
       " ('sure', 0.4908353090286255),\n",
       " ('honestli', 0.4890446960926056),\n",
       " ('anyway', 0.4884449541568756),\n",
       " ('that', 0.48788535594940186),\n",
       " ('actual', 0.48193255066871643)]"
      ]
     },
     "execution_count": 35,
     "metadata": {},
     "output_type": "execute_result"
    }
   ],
   "source": [
    "model_w2v.wv.most_similar(\"movi\", topn=10)"
   ]
  },
  {
   "cell_type": "code",
   "execution_count": 40,
   "metadata": {},
   "outputs": [
    {
     "data": {
      "text/plain": [
       "array([-1.6679025 ,  0.976739  , -0.49240503, -0.12290566, -1.3383324 ,\n",
       "       -0.25439236,  0.73828495, -2.141694  , -0.4308026 ,  0.07670351,\n",
       "       -0.24001525,  0.862392  ,  0.59902006,  0.09336349, -1.0874071 ,\n",
       "       -0.8647749 ,  2.3268545 ,  0.10349342, -0.69399786,  0.29455435,\n",
       "        0.53509754, -0.0279786 ,  0.13921207, -0.05345871, -0.03995151,\n",
       "       -0.00975455,  1.0662194 ,  1.4899983 ,  1.7545404 , -0.644885  ,\n",
       "       -1.5034398 , -0.26431668, -0.23618709, -0.7639948 , -0.46706343,\n",
       "        0.35195827, -0.45110607, -0.6640943 ,  1.3995006 , -0.64194024,\n",
       "        0.38294268,  0.75044477,  0.07767306, -0.3785587 , -0.9780107 ,\n",
       "        0.75610644,  0.21131673, -0.42473704, -0.53340477, -0.19254273,\n",
       "       -0.77760744,  0.4058162 ,  0.06435315, -0.06738426,  0.03742285,\n",
       "       -0.5121494 ,  0.4982558 ,  0.91761285,  0.21070947,  0.10286721,\n",
       "        0.34647396,  0.9978036 ,  0.42636225,  0.7155429 , -0.683319  ,\n",
       "       -0.19674475,  0.1771881 , -0.46004146,  0.34773237,  0.44458988,\n",
       "        0.81135076,  1.606356  , -0.12469354,  0.26427096,  1.0670805 ,\n",
       "        0.20328578, -0.9432899 , -0.25213248,  1.4155899 , -2.7893393 ,\n",
       "        0.04133113, -0.7229841 , -1.073604  , -0.92579615, -0.01940501,\n",
       "       -0.12464844,  1.5992376 , -2.5317423 , -0.83365107,  0.10197491,\n",
       "       -0.738607  , -1.2823709 ,  0.2265341 , -0.6546411 , -1.0325863 ,\n",
       "       -1.5617436 , -0.94126904,  0.10418653, -0.72972   , -0.7898408 ,\n",
       "        0.6758836 ,  0.02366081,  0.41123888,  0.01120235, -0.1892867 ,\n",
       "        0.13752699, -1.1029516 , -0.37594602, -1.165096  ,  0.78879887,\n",
       "        0.87026125,  0.6248875 ,  0.7007521 , -0.00408318,  0.41791287,\n",
       "        0.77291906,  0.90843827,  1.0749753 , -0.9624408 , -0.251069  ,\n",
       "       -0.2726016 , -1.2365882 ,  0.6263287 ,  0.91401297,  0.4650662 ,\n",
       "       -0.08450293, -0.72587717, -0.7986964 ,  0.10189769,  0.50784093,\n",
       "        0.03579728,  0.23205833,  0.32445827, -0.94946605,  0.49786747,\n",
       "        0.02951013,  0.43390545,  0.00343326,  0.37857705,  1.0210605 ,\n",
       "        0.6271201 ,  1.0222253 ,  0.47154248,  1.5555277 ,  0.21714273,\n",
       "        1.2747345 ,  1.3688571 , -0.6387115 ,  0.7334593 , -1.6467    ,\n",
       "        0.02914979,  0.01713568,  1.033549  , -0.20860265,  0.83878887,\n",
       "       -1.0862315 ,  0.69360846, -2.0253625 ,  1.2181098 , -1.2957779 ,\n",
       "       -1.4808971 , -0.10220626,  1.275798  ,  0.83867735,  1.2581787 ,\n",
       "        0.48801878, -0.12967497,  1.1367978 , -0.16165903, -0.21230228,\n",
       "        1.4338222 , -2.0384    ,  1.0722814 ,  1.8787531 ,  1.5885332 ,\n",
       "       -1.0890969 ,  0.44889364, -1.344528  ,  0.58637017,  0.15404049,\n",
       "       -0.63077086,  0.4786731 ,  0.4865274 ,  0.2122236 , -0.29553133,\n",
       "       -0.09189278,  1.5133572 , -0.01068264, -1.7598546 , -2.2433465 ,\n",
       "       -0.76464283,  0.78069127,  0.02731488,  0.42739925,  0.22689237,\n",
       "       -0.9084685 ,  0.9275336 , -1.9206097 , -1.2607621 , -0.91476566],\n",
       "      dtype=float32)"
      ]
     },
     "execution_count": 40,
     "metadata": {},
     "output_type": "execute_result"
    }
   ],
   "source": [
    "model_w2v.wv[\"movi\"]"
   ]
  },
  {
   "cell_type": "code",
   "execution_count": 41,
   "metadata": {},
   "outputs": [],
   "source": [
    "def word_vector(tokens, size):\n",
    "    vec = np.zeros(size).reshape((1, size))\n",
    "    count = 0.\n",
    "    for word in tokens:\n",
    "        try:\n",
    "            vec += model_w2v.wv[word].reshape((1, size))\n",
    "            count += 1.\n",
    "        except KeyError: # handling the case where the token is not in vocabulary\n",
    "                         \n",
    "            continue\n",
    "    if count != 0:\n",
    "        vec /= count\n",
    "    return vec"
   ]
  },
  {
   "cell_type": "code",
   "execution_count": 46,
   "metadata": {},
   "outputs": [
    {
     "data": {
      "text/plain": [
       "(12500, 200)"
      ]
     },
     "execution_count": 46,
     "metadata": {},
     "output_type": "execute_result"
    }
   ],
   "source": [
    "tokenized_tidy_train = train['tidy_review'].apply(lambda x: x.split())\n",
    "wordvec_arrays_tr = np.zeros((len(tokenized_tidy_train), 200))\n",
    "\n",
    "for i in range(len(tokenized_tidy_train)):\n",
    "    wordvec_arrays_tr[i,:] = word_vector(tokenized_tidy_train[i], 200)\n",
    "    \n",
    "wordvec_tr = pd.DataFrame(wordvec_arrays_tr)\n",
    "wordvec_tr.shape"
   ]
  },
  {
   "cell_type": "code",
   "execution_count": 49,
   "metadata": {},
   "outputs": [],
   "source": [
    "wordvec_tr['sentiment'] = train['sentiment']"
   ]
  },
  {
   "cell_type": "code",
   "execution_count": 52,
   "metadata": {},
   "outputs": [],
   "source": [
    "wordvec_tr.to_csv('C:/Users/ranas/ML course/Competitions/Second competition/data/processed/w2v_train.csv', index=False)"
   ]
  },
  {
   "cell_type": "code",
   "execution_count": 47,
   "metadata": {},
   "outputs": [
    {
     "data": {
      "application/vnd.jupyter.widget-view+json": {
       "model_id": "be4eb99b676c4946b10bfc2c98014f81",
       "version_major": 2,
       "version_minor": 0
      },
      "text/plain": [
       "  0%|          | 0/12500 [00:00<?, ?it/s]"
      ]
     },
     "metadata": {},
     "output_type": "display_data"
    },
    {
     "name": "stderr",
     "output_type": "stream",
     "text": [
      "C:\\Users\\ranas\\anaconda3\\lib\\site-packages\\bs4\\__init__.py:435: MarkupResemblesLocatorWarning: The input looks more like a filename than markup. You may want to open this file and pass the filehandle into Beautiful Soup.\n",
      "  warnings.warn(\n"
     ]
    },
    {
     "data": {
      "text/plain": [
       "(12500, 200)"
      ]
     },
     "execution_count": 47,
     "metadata": {},
     "output_type": "execute_result"
    }
   ],
   "source": [
    "#повторим то же самое с тестом\n",
    "test = text_cleaning(test, 'review')\n",
    "tokenized_tidy_test = test['tidy_review'].apply(lambda x: x.split())\n",
    "wordvec_arrays_te = np.zeros((len(tokenized_tidy_test), 200))\n",
    "\n",
    "for i in range(len(tokenized_tidy_test)):\n",
    "    wordvec_arrays_te[i,:] = word_vector(tokenized_tidy_test[i], 200)\n",
    "    \n",
    "wordvec_te = pd.DataFrame(wordvec_arrays_te)\n",
    "wordvec_te.shape"
   ]
  },
  {
   "cell_type": "code",
   "execution_count": 53,
   "metadata": {},
   "outputs": [],
   "source": [
    "wordvec_te.to_csv('C:/Users/ranas/ML course/Competitions/Second competition/data/processed/w2v_test.csv', index=False)"
   ]
  },
  {
   "cell_type": "markdown",
   "metadata": {},
   "source": [
    "## Комментарии на будущее:\n",
    "* Попробовать разные варианты удаления стоп слов (spacy и nltk) или вообще не удалять стоп слова\n",
    "* Лемминг или Стемминг?"
   ]
  },
  {
   "cell_type": "code",
   "execution_count": null,
   "metadata": {},
   "outputs": [],
   "source": [
    "# import spacy\n",
    "# cnlp = spacy.load('en_core_web_sm')\n",
    "# stopwords = nlp.Defaults.stop_words\n",
    "# print(len(stopwords))\n",
    "# print(stopwords)"
   ]
  }
 ],
 "metadata": {
  "kernelspec": {
   "display_name": "Python 3 (ipykernel)",
   "language": "python",
   "name": "python3"
  },
  "language_info": {
   "codemirror_mode": {
    "name": "ipython",
    "version": 3
   },
   "file_extension": ".py",
   "mimetype": "text/x-python",
   "name": "python",
   "nbconvert_exporter": "python",
   "pygments_lexer": "ipython3",
   "version": "3.9.13"
  }
 },
 "nbformat": 4,
 "nbformat_minor": 4
}
